{
 "cells": [
  {
   "cell_type": "code",
   "execution_count": 1,
   "metadata": {},
   "outputs": [],
   "source": [
    "import numpy as pd\n",
    "import pandas as pd\n",
    "import matplotlib.pyplot as plt\n",
    "\n",
    "from sklearn.preprocessing import StandardScaler, MinMaxScaler\n",
    "from sklearn.model_selection import KFold\n",
    "from sklearn.metrics import mean_squared_error\n",
    "from pyearth import Earth"
   ]
  },
  {
   "cell_type": "code",
   "execution_count": 2,
   "metadata": {},
   "outputs": [],
   "source": [
    "cowpea = pd.read_excel('../data/prepared.xlsx', sheet_name='Cowpea')    ; cowpea['crop']   = 'cowpea'\n",
    "maize = pd.read_excel('../data/prepared.xlsx', sheet_name='Maize')      ; maize['crop']    = 'maize'\n",
    "rice = pd.read_excel('../data/prepared.xlsx', sheet_name='Rice')        ; rice['crop']     = 'rice'\n",
    "chickpea = pd.read_excel('../data/prepared.xlsx', sheet_name='Chickpea'); chickpea['crop'] = 'chickpea'\n",
    "mustard = pd.read_excel('../data/prepared.xlsx', sheet_name='Mustard')  ; mustard['crop']  = 'mustard'"
   ]
  },
  {
   "cell_type": "code",
   "execution_count": 3,
   "metadata": {},
   "outputs": [],
   "source": [
    "# data = pd.concat([cowpea, rice, maize, chickpea, mustard], axis=0).reset_index(drop=True)\n",
    "data = pd.concat([cowpea, rice, maize, chickpea], axis=0).reset_index(drop=True)"
   ]
  },
  {
   "cell_type": "code",
   "execution_count": 4,
   "metadata": {},
   "outputs": [],
   "source": [
    "# Remove outliers\n",
    "data = data[data['GSR']<=1000]"
   ]
  },
  {
   "cell_type": "code",
   "execution_count": 5,
   "metadata": {},
   "outputs": [],
   "source": [
    "data.loc[:, 'Time'] = data.loc[:, 'Time'].apply(lambda x: x.hour)\n",
    "data.loc[:, 'timesin'] = np.sin(data.loc[:, 'Time'] * (2 * np.pi) / 12)\n",
    "data.loc[:, 'timecos'] = np.cos(data.loc[:, 'Time'] * (2 * np.pi) / 12)"
   ]
  },
  {
   "cell_type": "code",
   "execution_count": 6,
   "metadata": {},
   "outputs": [],
   "source": [
    "df = pd.get_dummies(data[['crop']])\n",
    "data = pd.concat([df, data], axis=1)"
   ]
  },
  {
   "cell_type": "code",
   "execution_count": 7,
   "metadata": {},
   "outputs": [],
   "source": [
    "scalerx = StandardScaler()\n",
    "scalery = StandardScaler()\n",
    "data[['GSR','CT',]] = scalerx.fit_transform(data[['GSR','CT']])\n",
    "data[['Rn']] = scalery.fit_transform(data[['Rn']])"
   ]
  },
  {
   "cell_type": "code",
   "execution_count": 8,
   "metadata": {},
   "outputs": [],
   "source": [
    "feature_cols = [c for c in data.columns if c not in ['ST_5cm','ST_10cm','ST_15cm','Date','Time','crop','Rn']]\n",
    "X = data[feature_cols]\n",
    "y = data['Rn']"
   ]
  },
  {
   "cell_type": "code",
   "execution_count": 33,
   "metadata": {},
   "outputs": [
    {
     "data": {
      "text/plain": [
       "Earth(max_degree=2)"
      ]
     },
     "execution_count": 33,
     "metadata": {},
     "output_type": "execute_result"
    }
   ],
   "source": [
    "#Fit an Earth model\n",
    "model = Earth(max_degree=2)\n",
    "model.fit(X,y)"
   ]
  },
  {
   "cell_type": "code",
   "execution_count": 34,
   "metadata": {},
   "outputs": [
    {
     "name": "stdout",
     "output_type": "stream",
     "text": [
      "Forward Pass\n",
      "---------------------------------------------------------------\n",
      "iter  parent  var  knot  mse       terms  gcv    rsq    grsq   \n",
      "---------------------------------------------------------------\n",
      "0     -       -    -     1.000000  1      1.012  0.000  0.000  \n",
      "1     0       4    110   0.452183  3      0.485  0.548  0.521  \n",
      "2     0       7    -1    0.393399  4      0.435  0.607  0.570  \n",
      "3     0       5    102   0.339600  6      0.399  0.660  0.606  \n",
      "4     1       2    -1    0.268291  7      0.325  0.732  0.679  \n",
      "5     3       5    159   0.252305  9      0.326  0.748  0.678  \n",
      "6     4       4    4     0.210984  11     0.291  0.789  0.712  \n",
      "7     5       6    -1    0.198046  12     0.283  0.802  0.721  \n",
      "8     0       1    -1    0.186465  13     0.275  0.814  0.728  \n",
      "9     12      6    -1    0.178504  14     0.273  0.821  0.730  \n",
      "10    3       5    1     0.173621  16     0.285  0.826  0.718  \n",
      "11    5       2    -1    0.167672  17     0.286  0.832  0.717  \n",
      "12    2       2    -1    0.160949  18     0.285  0.839  0.718  \n",
      "13    1       6    -1    0.157077  19     0.289  0.843  0.714  \n",
      "14    1       1    -1    0.154429  20     0.296  0.846  0.708  \n",
      "15    0       0    -1    0.156990  21     0.313  0.843  0.691  \n",
      "---------------------------------------------------------------\n",
      "Stopping Condition 2: Improvement below threshold\n",
      "\n",
      "Pruning Pass\n",
      "----------------------------------------------\n",
      "iter  bf  terms  mse   gcv    rsq     grsq    \n",
      "----------------------------------------------\n",
      "0     -   21     0.15  0.307  0.846   0.696   \n",
      "1     8   20     0.15  0.295  0.846   0.708   \n",
      "2     20  19     0.15  0.284  0.846   0.719   \n",
      "3     14  18     0.15  0.274  0.845   0.729   \n",
      "4     5   17     0.16  0.265  0.844   0.738   \n",
      "5     10  16     0.16  0.259  0.842   0.744   \n",
      "6     19  15     0.16  0.254  0.839   0.748   \n",
      "7     18  14     0.16  0.251  0.836   0.752   \n",
      "8     12  13     0.17  0.252  0.830   0.751   \n",
      "9     11  12     0.18  0.253  0.823   0.750   \n",
      "10    15  11     0.18  0.255  0.815   0.748   \n",
      "11    3   10     0.19  0.253  0.810   0.750   \n",
      "12    1   9      0.19  0.250  0.806   0.753   \n",
      "13    13  8      0.20  0.256  0.796   0.747   \n",
      "14    17  7      0.23  0.276  0.772   0.727   \n",
      "15    16  6      0.24  0.279  0.762   0.724   \n",
      "16    9   5      0.27  0.303  0.734   0.700   \n",
      "17    4   4      0.29  0.324  0.706   0.679   \n",
      "18    6   3      0.36  0.390  0.637   0.615   \n",
      "19    7   2      0.50  0.516  0.504   0.490   \n",
      "20    2   1      1.00  1.012  -0.000  -0.000  \n",
      "----------------------------------------------\n",
      "Selected iteration: 12\n",
      "\n",
      "Earth Model\n",
      "-----------------------------------------------------\n",
      "Basis Function                  Pruned  Coefficient  \n",
      "-----------------------------------------------------\n",
      "(Intercept)                     No      -0.354812    \n",
      "h(GSR-0.0347873)                Yes     None         \n",
      "h(0.0347873-GSR)                No      -0.520556    \n",
      "timecos                         Yes     None         \n",
      "h(CT+0.537514)                  No      0.679315     \n",
      "h(-0.537514-CT)                 Yes     None         \n",
      "crop_maize*h(GSR-0.0347873)     No      0.943869     \n",
      "h(CT+1.36421)*timecos           No      0.487331     \n",
      "h(-1.36421-CT)*timecos          Yes     None         \n",
      "h(GSR+1.24871)*h(CT+0.537514)   No      -0.244759    \n",
      "h(-1.24871-GSR)*h(CT+0.537514)  Yes     None         \n",
      "timesin*h(-0.537514-CT)         Yes     None         \n",
      "crop_cowpea                     Yes     None         \n",
      "timesin*crop_cowpea             No      -0.354917    \n",
      "h(CT-0.932168)*timecos          Yes     None         \n",
      "h(0.932168-CT)*timecos          Yes     None         \n",
      "crop_maize*h(-0.537514-CT)      No      0.69746      \n",
      "crop_maize*h(0.0347873-GSR)     No      -0.563562    \n",
      "timesin*h(GSR-0.0347873)        Yes     None         \n",
      "crop_cowpea*h(GSR-0.0347873)    Yes     None         \n",
      "crop_chickpea                   Yes     None         \n",
      "-----------------------------------------------------\n",
      "MSE: 0.1938, GCV: 0.2502, RSQ: 0.8062, GRSQ: 0.7526\n"
     ]
    }
   ],
   "source": [
    "#Print the model\n",
    "print(model.trace())\n",
    "print(model.summary())"
   ]
  },
  {
   "cell_type": "code",
   "execution_count": 35,
   "metadata": {},
   "outputs": [
    {
     "data": {
      "text/plain": [
       "Index(['crop_chickpea', 'crop_cowpea', 'crop_maize', 'crop_rice', 'GSR', 'CT',\n",
       "       'timesin', 'timecos'],\n",
       "      dtype='object')"
      ]
     },
     "execution_count": 35,
     "metadata": {},
     "output_type": "execute_result"
    }
   ],
   "source": [
    "X.columns"
   ]
  },
  {
   "cell_type": "code",
   "execution_count": 36,
   "metadata": {},
   "outputs": [
    {
     "data": {
      "image/png": "[encoded data removed]",
      "text/plain": [
       "<Figure size 576x504 with 1 Axes>"
      ]
     },
     "metadata": {},
     "output_type": "display_data"
    }
   ],
   "source": [
    "#Plot the model\n",
    "y_hat = model.predict(X)\n",
    "plt.figure()\n",
    "plt.plot(X.iloc[:,5],y,'r.')\n",
    "plt.plot(X.iloc[:,5],y_hat,'b.')\n",
    "plt.xlabel('x_6')\n",
    "plt.ylabel('y')\n",
    "plt.title('Simple Earth Example')\n",
    "plt.show()"
   ]
  },
  {
   "cell_type": "code",
   "execution_count": 37,
   "metadata": {},
   "outputs": [],
   "source": [
    "kfold = KFold(n_splits=5)"
   ]
  },
  {
   "cell_type": "code",
   "execution_count": 38,
   "metadata": {},
   "outputs": [
    {
     "name": "stdout",
     "output_type": "stream",
     "text": [
      "Stacked estimator mean MSE: 8483.689215211429\n",
      "Stacked estimator mean RMSE: 87.6553965913511\n"
     ]
    }
   ],
   "source": [
    "all_stacked_mses = []\n",
    "all_stacked_rmses = []\n",
    "for (t_, v_) in kfold.split(X, y):\n",
    "    model.fit(X.iloc[t_], y.iloc[t_])\n",
    "    y_pred = scalery.inverse_transform(model.predict(X.iloc[v_][feature_cols]).reshape(-1,1))\n",
    "    y_true = scalery.inverse_transform(y.iloc[v_].values.reshape(-1,1))\n",
    "    \n",
    "    mse = mean_squared_error(y_true, y_pred)\n",
    "    rmse = np.sqrt(mse)\n",
    "    \n",
    "    all_stacked_mses.append(mse)\n",
    "    all_stacked_rmses.append(rmse)\n",
    "#     print(\"Stacked estimator MSE:\", mse)\n",
    "#     print(\"Stacked estimator RMSE:\", rmse)\n",
    "#     print(\"\\n\")\n",
    "\n",
    "print(\"Stacked estimator mean MSE:\", np.mean(all_stacked_mses))\n",
    "print(\"Stacked estimator mean RMSE:\", np.mean(all_stacked_rmses))"
   ]
  },
  {
   "cell_type": "code",
   "execution_count": null,
   "metadata": {},
   "outputs": [],
   "source": []
  }
 ],
 "metadata": {
  "kernelspec": {
   "display_name": "Python 3",
   "language": "python",
   "name": "python3"
  },
  "language_info": {
   "codemirror_mode": {
    "name": "ipython",
    "version": 3
   },
   "file_extension": ".py",
   "mimetype": "text/x-python",
   "name": "python",
   "nbconvert_exporter": "python",
   "pygments_lexer": "ipython3",
   "version": "3.8.5"
  },
  "toc": {
   "base_numbering": 1,
   "nav_menu": {},
   "number_sections": true,
   "sideBar": true,
   "skip_h1_title": false,
   "title_cell": "Table of Contents",
   "title_sidebar": "Contents",
   "toc_cell": false,
   "toc_position": {},
   "toc_section_display": true,
   "toc_window_display": false
  }
 },
 "nbformat": 4,
 "nbformat_minor": 4
}
