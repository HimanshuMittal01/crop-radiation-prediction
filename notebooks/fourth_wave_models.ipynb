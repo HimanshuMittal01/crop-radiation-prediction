{
 "cells": [
  {
   "cell_type": "code",
   "execution_count": 1,
   "metadata": {},
   "outputs": [],
   "source": [
    "import numpy as np\n",
    "import pandas as pd\n",
    "import matplotlib.pyplot as plt\n",
    "import seaborn as sns\n",
    "\n",
    "from sklearn.preprocessing import StandardScaler, MinMaxScaler, RobustScaler, QuantileTransformer\n",
    "from sklearn.neighbors import LocalOutlierFactor\n",
    "\n",
    "from sklearn.ensemble import RandomForestRegressor, GradientBoostingRegressor\n",
    "from sklearn.linear_model import Ridge, Lasso\n",
    "from sklearn.svm import SVR\n",
    "from sklearn.gaussian_process import GaussianProcessRegressor\n",
    "from sklearn.ensemble import StackingRegressor, AdaBoostRegressor\n",
    "\n",
    "from sklearn.pipeline import Pipeline\n",
    "from sklearn.preprocessing import PolynomialFeatures, PowerTransformer, OneHotEncoder\n",
    "from sklearn.model_selection import cross_val_score, KFold\n",
    "from sklearn.metrics import mean_squared_error"
   ]
  },
  {
   "cell_type": "code",
   "execution_count": 2,
   "metadata": {},
   "outputs": [],
   "source": [
    "cowpea = pd.read_excel('../data/prepared.xlsx', sheet_name='Cowpea')    ; cowpea['crop']   = 'cowpea'\n",
    "maize = pd.read_excel('../data/prepared.xlsx', sheet_name='Maize')      ; maize['crop']    = 'maize'\n",
    "rice = pd.read_excel('../data/prepared.xlsx', sheet_name='Rice')        ; rice['crop']     = 'rice'\n",
    "chickpea = pd.read_excel('../data/prepared.xlsx', sheet_name='Chickpea'); chickpea['crop'] = 'chickpea'\n",
    "mustard = pd.read_excel('../data/prepared.xlsx', sheet_name='Mustard')  ; mustard['crop']  = 'mustard'"
   ]
  },
  {
   "cell_type": "code",
   "execution_count": 3,
   "metadata": {},
   "outputs": [],
   "source": [
    "data = pd.concat([cowpea, rice, maize, chickpea, mustard], axis=0).reset_index(drop=True)"
   ]
  },
  {
   "cell_type": "code",
   "execution_count": 4,
   "metadata": {},
   "outputs": [],
   "source": [
    "clf = LocalOutlierFactor(n_neighbors=20)\n",
    "\n",
    "new_data = []\n",
    "org_cols = data.columns\n",
    "for i, outlier_label in enumerate(clf.fit_predict(data[['GSR', 'CT']])):\n",
    "    if outlier_label==1:\n",
    "        new_data.append(data.iloc[i,:])\n",
    "data = pd.DataFrame(new_data, columns=org_cols)"
   ]
  },
  {
   "cell_type": "code",
   "execution_count": 5,
   "metadata": {},
   "outputs": [],
   "source": [
    "data = data[(data['GSR']<300) | (data['Rn']>150)]\n",
    "data = data[(data['Rn']<500) | (data['crop']!='cowpea')]\n",
    "data = data[(data['Rn']<400) | (data['GSR']>500) | (data['crop']!='rice')]\n",
    "data = data[(data['Rn']<300) | (data['GSR']>375)]"
   ]
  },
  {
   "cell_type": "code",
   "execution_count": 6,
   "metadata": {},
   "outputs": [],
   "source": [
    "data.loc[:, 'Time'] = data.loc[:, 'Time'].apply(lambda x: x.hour)"
   ]
  },
  {
   "cell_type": "code",
   "execution_count": 7,
   "metadata": {},
   "outputs": [],
   "source": [
    "data.loc[:, 'timesin'] = np.sin(data.loc[:, 'Time'] * (2 * np.pi) / 12)\n",
    "data.loc[:, 'timecos'] = np.cos(data.loc[:, 'Time'] * (2 * np.pi) / 12)"
   ]
  },
  {
   "cell_type": "code",
   "execution_count": 8,
   "metadata": {},
   "outputs": [],
   "source": [
    "# ohe = OneHotEncoder(sparse=False)\n",
    "# df = ohe.fit_transform(data['crop'].values.reshape(-1,1))\n",
    "\n",
    "# print(df.shape)\n",
    "# df = pd.DataFrame(df, columns=ohe.get_feature_names(['crop']))\n",
    "df = pd.get_dummies(data[['crop']])\n",
    "data = pd.concat([df, data], axis=1)"
   ]
  },
  {
   "cell_type": "code",
   "execution_count": 9,
   "metadata": {},
   "outputs": [],
   "source": [
    "scalerx = StandardScaler()\n",
    "scalery = StandardScaler()\n",
    "data[['GSR','CT',]] = scalerx.fit_transform(data[['GSR','CT']])\n",
    "data[['Rn']] = scalery.fit_transform(data[['Rn']])"
   ]
  },
  {
   "cell_type": "code",
   "execution_count": 10,
   "metadata": {},
   "outputs": [
    {
     "data": {
      "text/plain": [
       "Index(['crop_chickpea', 'crop_cowpea', 'crop_maize', 'crop_mustard',\n",
       "       'crop_rice', 'Date', 'Time', 'GSR', 'CT', 'Rn', 'crop', 'ST_5cm',\n",
       "       'ST_10cm', 'ST_15cm', 'timesin', 'timecos'],\n",
       "      dtype='object')"
      ]
     },
     "execution_count": 10,
     "metadata": {},
     "output_type": "execute_result"
    }
   ],
   "source": [
    "data.columns"
   ]
  },
  {
   "cell_type": "code",
   "execution_count": 11,
   "metadata": {},
   "outputs": [],
   "source": [
    "feature_cols = [c for c in data.columns if c not in ['ST_5cm','ST_10cm','ST_15cm','Date','Time','crop','Rn']]\n",
    "X = data[feature_cols]\n",
    "y = data['Rn']"
   ]
  },
  {
   "cell_type": "code",
   "execution_count": 38,
   "metadata": {},
   "outputs": [],
   "source": [
    "estimators = [\n",
    "    ('GBR', GradientBoostingRegressor(n_estimators=400, min_samples_split=9, subsample=0.9, learning_rate=0.01, random_state=42)),\n",
    "    ('RF', RandomForestRegressor(n_estimators=400, max_depth=5, min_samples_split=9, max_samples=0.95, criterion='mse', random_state=42)),\n",
    "    ('Ridge pipeline', Pipeline(steps=[\n",
    "#         ('powert', PowerTransformer()),\n",
    "        ('poly2', PolynomialFeatures(degree=2, interaction_only=True)),\n",
    "        ('ridgef', Ridge(alpha=50, random_state=42))\n",
    "    ])),\n",
    "    ('ridge', Ridge(alpha=40, random_state=42)),\n",
    "    ('SVR', SVR(kernel='rbf', gamma='auto', C=0.05)),\n",
    "    ('adaboost', AdaBoostRegressor())\n",
    "]"
   ]
  },
  {
   "cell_type": "code",
   "execution_count": 39,
   "metadata": {},
   "outputs": [],
   "source": [
    "# Use KFold croos validation\n",
    "kfold = KFold(n_splits=10)"
   ]
  },
  {
   "cell_type": "code",
   "execution_count": 40,
   "metadata": {},
   "outputs": [],
   "source": [
    "# Train all models\n",
    "def train(estimators, X, y, cv, scoring, verbose):\n",
    "    if verbose:\n",
    "        print(\"Scoring criteria:\", str(scoring))\n",
    "        print(\"CV:\", cv)\n",
    "        print(\"y std:\", np.std(y))\n",
    "        print('\\n')\n",
    "    for model in estimators if isinstance(estimators, list) else [estimators]:\n",
    "        model[1].fit(X, y)\n",
    "        if verbose:\n",
    "            cross_scores = cross_val_score(model[1], X, y, scoring=scoring, cv=cv)\n",
    "            print(model[0], \"mean cv score:\", np.mean(cross_scores))\n",
    "            print(model[0], \"all cv scores:\", cross_scores)\n",
    "            print('\\n')"
   ]
  },
  {
   "cell_type": "code",
   "execution_count": 41,
   "metadata": {},
   "outputs": [],
   "source": [
    "all_mse = {}\n",
    "all_rmse = {}\n",
    "for model in estimators:\n",
    "    all_mse[model[0]] = []\n",
    "    all_rmse[model[0]] = []\n",
    "for (t_, v_) in kfold.split(X, y):\n",
    "    train(estimators=estimators, X=X.iloc[t_], y=y.iloc[t_], cv=10, scoring='neg_root_mean_squared_error', verbose=0)\n",
    "    for model in estimators:\n",
    "        y_pred = scalery.inverse_transform(model[1].predict(X.iloc[v_][feature_cols]).reshape(-1,1))\n",
    "        y_true = scalery.inverse_transform(y.iloc[v_].values.reshape(-1,1))\n",
    "        \n",
    "        mse = mean_squared_error(y_true, y_pred)\n",
    "        rmse = np.sqrt(mse)\n",
    "        \n",
    "        all_mse[model[0]].extend([mse])\n",
    "        all_rmse[model[0]].extend([rmse])"
   ]
  },
  {
   "cell_type": "code",
   "execution_count": 42,
   "metadata": {
    "scrolled": false
   },
   "outputs": [
    {
     "name": "stdout",
     "output_type": "stream",
     "text": [
      "GBR :\n",
      "All folds MSE : [4858.636794689746, 2265.2911909795357, 5603.008843367038, 4310.913818761632, 3903.5968387485245, 5142.331853661859, 1305.672367508056, 3940.8584958461033, 1533.9049494329424, 2298.7370937886812]\n",
      "All folds RMSE : [69.70392237664782, 47.59507528074239, 74.85324871618491, 65.65754959455639, 62.47877110466022, 71.71005406260589, 36.13408871838414, 62.77625742146551, 39.16509861385443, 47.945146717771976]\n",
      "Mean MSE : 3516.2952246784116\n",
      "Mean RMSE : 57.801921260687365\n",
      "\n",
      "\n",
      "RF :\n",
      "All folds MSE : [4252.693209784992, 2796.4547022185575, 6119.872911304995, 5194.130522314317, 3233.7953596766406, 5137.605869239683, 1376.825062443218, 3579.4160383205335, 1664.3829792703634, 2858.5513128356047]\n",
      "All folds RMSE : [65.2126767567855, 52.88151569517044, 78.22961658671858, 72.07031651321033, 56.866469555236506, 71.67709445310742, 37.1055934118189, 59.82822108604378, 40.79685011456599, 53.465421655829154]\n",
      "Mean MSE : 3621.372796740891\n",
      "Mean RMSE : 58.81337758284866\n",
      "\n",
      "\n",
      "Ridge pipeline :\n",
      "All folds MSE : [3995.1787234718063, 2964.15060788768, 6262.3106039028435, 7860.756725574301, 2861.3726358168224, 4621.95771944233, 2486.3789246991437, 4639.574936876458, 3555.989987000988, 1518.1877585625866]\n",
      "All folds RMSE : [63.20742617344742, 54.4440135174445, 79.13476229763279, 88.66090866652733, 53.491799706280425, 67.9849815727145, 49.863603206137675, 68.11442532148722, 59.632122107141114, 38.9639289415555]\n",
      "Mean MSE : 4076.5858623234963\n",
      "Mean RMSE : 62.34979715103684\n",
      "\n",
      "\n",
      "ridge :\n",
      "All folds MSE : [3591.766831276623, 2886.4936444410037, 7366.003926107198, 8819.494602694169, 2832.3184979996927, 4691.271642336664, 1663.0436769782486, 4682.844554533854, 2900.069170575466, 2157.950615093972]\n",
      "All folds RMSE : [59.931350988248404, 53.72609835490572, 85.82542703713858, 93.91216429565537, 53.219531170423636, 68.49285833089947, 40.780432525639654, 68.43131267580546, 53.85229030018562, 46.453747051168776]\n",
      "Mean MSE : 4159.125716203689\n",
      "Mean RMSE : 62.46252127300706\n",
      "\n",
      "\n",
      "SVR :\n",
      "All folds MSE : [4623.0163795828485, 4962.816729542754, 9470.891924919442, 13050.322810302321, 2857.0047020592415, 4712.071453822898, 4383.996112061713, 5839.7879236128665, 5109.874313101463, 2922.839907920479]\n",
      "All folds RMSE : [67.99276711226605, 70.44726204433181, 97.31850761761322, 114.2380094815308, 53.45095604438934, 68.64452967151058, 66.21175206911317, 76.4185051123932, 71.48338487439905, 54.06329538532108]\n",
      "Mean MSE : 5793.262225692602\n",
      "Mean RMSE : 74.02689694128682\n",
      "\n",
      "\n",
      "adaboost :\n",
      "All folds MSE : [5332.132249367045, 3542.4474494458645, 5339.866279543165, 7597.723373019807, 3235.1609974955495, 5129.219641781681, 1555.6102227254337, 4005.492125385466, 2240.9333318822896, 3362.8936292538374]\n",
      "All folds RMSE : [73.0214506112214, 59.51846309714209, 73.07438867033487, 87.16492054157915, 56.87847569595681, 71.618570509203, 39.441224914110286, 63.28895737319004, 47.33849735555925, 57.99046153682377]\n",
      "Mean MSE : 4134.147929990014\n",
      "Mean RMSE : 62.933541030512075\n",
      "\n",
      "\n"
     ]
    }
   ],
   "source": [
    "for model in estimators:\n",
    "    print(model[0],\":\")\n",
    "    print(\"All folds MSE :\", all_mse[model[0]])\n",
    "    print(\"All folds RMSE :\", all_rmse[model[0]])\n",
    "    print(\"Mean MSE :\", np.mean(all_mse[model[0]]))\n",
    "    print(\"Mean RMSE :\", np.mean(all_rmse[model[0]]))\n",
    "    print(\"\\n\")"
   ]
  },
  {
   "cell_type": "markdown",
   "metadata": {},
   "source": [
    "## Stacked estimator"
   ]
  },
  {
   "cell_type": "code",
   "execution_count": 17,
   "metadata": {},
   "outputs": [],
   "source": [
    "stacked_estimator = StackingRegressor(\n",
    "    estimators=estimators,\n",
    "    final_estimator=RandomForestRegressor(random_state=42)\n",
    ")"
   ]
  },
  {
   "cell_type": "code",
   "execution_count": 18,
   "metadata": {},
   "outputs": [
    {
     "name": "stdout",
     "output_type": "stream",
     "text": [
      "Stacked estimator mean cv score: -0.5050362031926395\n",
      "Stacked estimator all cv scores: [-0.46445612 -0.78159813 -0.47275788 -0.4221128  -0.38425609]\n"
     ]
    }
   ],
   "source": [
    "cross_scores = cross_val_score(\n",
    "    stacked_estimator,\n",
    "    X,\n",
    "    y,\n",
    "    scoring='neg_root_mean_squared_error',\n",
    "    cv=5\n",
    ")\n",
    "\n",
    "print(\"Stacked estimator mean cv score:\", np.mean(cross_scores))\n",
    "print(\"Stacked estimator all cv scores:\", cross_scores)"
   ]
  },
  {
   "cell_type": "code",
   "execution_count": 19,
   "metadata": {},
   "outputs": [
    {
     "name": "stdout",
     "output_type": "stream",
     "text": [
      "Stacked estimator MSE: 4509.8043997660225\n",
      "Stacked estimator RMSE: 67.15507724488165\n",
      "\n",
      "\n",
      "Stacked estimator MSE: 11637.930165315978\n",
      "Stacked estimator RMSE: 107.87923880578681\n",
      "\n",
      "\n",
      "Stacked estimator MSE: 4434.400908152341\n",
      "Stacked estimator RMSE: 66.59129754068726\n",
      "\n",
      "\n",
      "Stacked estimator MSE: 3447.0075352536614\n",
      "Stacked estimator RMSE: 58.71122154455366\n",
      "\n",
      "\n",
      "Stacked estimator MSE: 2627.8320032751058\n",
      "Stacked estimator RMSE: 51.26238390160085\n",
      "\n",
      "\n",
      "Stacked estimator mean MSE: 5331.395002352622\n",
      "Stacked estimator mean RMSE: 70.31984380750205\n"
     ]
    }
   ],
   "source": [
    "all_stacked_mses = []\n",
    "all_stacked_rmses = []\n",
    "for (t_, v_) in kfold.split(X, y):\n",
    "    stacked_estimator.fit(X.iloc[t_], y.iloc[t_])\n",
    "    y_pred = scalery.inverse_transform(stacked_estimator.predict(X.iloc[v_][feature_cols]).reshape(-1,1))\n",
    "    y_true = scalery.inverse_transform(y.iloc[v_].values.reshape(-1,1))\n",
    "    \n",
    "    mse = mean_squared_error(y_true, y_pred)\n",
    "    rmse = np.sqrt(mse)\n",
    "    \n",
    "    all_stacked_mses.append(mse)\n",
    "    all_stacked_rmses.append(rmse)\n",
    "    print(\"Stacked estimator MSE:\", mse)\n",
    "    print(\"Stacked estimator RMSE:\", rmse)\n",
    "    print(\"\\n\")\n",
    "\n",
    "print(\"Stacked estimator mean MSE:\", np.mean(all_stacked_mses))\n",
    "print(\"Stacked estimator mean RMSE:\", np.mean(all_stacked_rmses))"
   ]
  },
  {
   "cell_type": "code",
   "execution_count": null,
   "metadata": {},
   "outputs": [],
   "source": []
  },
  {
   "cell_type": "code",
   "execution_count": null,
   "metadata": {},
   "outputs": [],
   "source": []
  }
 ],
 "metadata": {
  "kernelspec": {
   "display_name": "Python 3",
   "language": "python",
   "name": "python3"
  },
  "language_info": {
   "codemirror_mode": {
    "name": "ipython",
    "version": 3
   },
   "file_extension": ".py",
   "mimetype": "text/x-python",
   "name": "python",
   "nbconvert_exporter": "python",
   "pygments_lexer": "ipython3",
   "version": "3.8.5"
  },
  "toc": {
   "base_numbering": 1,
   "nav_menu": {},
   "number_sections": true,
   "sideBar": true,
   "skip_h1_title": false,
   "title_cell": "Table of Contents",
   "title_sidebar": "Contents",
   "toc_cell": false,
   "toc_position": {},
   "toc_section_display": true,
   "toc_window_display": false
  }
 },
 "nbformat": 4,
 "nbformat_minor": 4
}
