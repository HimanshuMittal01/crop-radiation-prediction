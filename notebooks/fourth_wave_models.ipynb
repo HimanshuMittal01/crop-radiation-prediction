{
 "cells": [
  {
   "cell_type": "code",
   "execution_count": 1,
   "metadata": {},
   "outputs": [],
   "source": [
    "import numpy as np\n",
    "import pandas as pd\n",
    "import matplotlib.pyplot as plt\n",
    "import seaborn as sns\n",
    "\n",
    "from sklearn.preprocessing import StandardScaler, MinMaxScaler, RobustScaler, QuantileTransformer\n",
    "from sklearn.neighbors import LocalOutlierFactor\n",
    "\n",
    "from sklearn.ensemble import RandomForestRegressor, GradientBoostingRegressor\n",
    "from sklearn.linear_model import Ridge, Lasso\n",
    "from sklearn.svm import SVR\n",
    "from sklearn.gaussian_process import GaussianProcessRegressor\n",
    "from sklearn.ensemble import StackingRegressor, AdaBoostRegressor\n",
    "\n",
    "from sklearn.pipeline import Pipeline\n",
    "from sklearn.preprocessing import PolynomialFeatures, PowerTransformer, OneHotEncoder\n",
    "from sklearn.model_selection import cross_val_score, KFold\n",
    "from sklearn.metrics import mean_squared_error"
   ]
  },
  {
   "cell_type": "code",
   "execution_count": 2,
   "metadata": {},
   "outputs": [],
   "source": [
    "cowpea = pd.read_excel('../data/prepared.xlsx', sheet_name='Cowpea')    ; cowpea['crop']   = 'cowpea'\n",
    "maize = pd.read_excel('../data/prepared.xlsx', sheet_name='Maize')      ; maize['crop']    = 'maize'\n",
    "rice = pd.read_excel('../data/prepared.xlsx', sheet_name='Rice')        ; rice['crop']     = 'rice'\n",
    "chickpea = pd.read_excel('../data/prepared.xlsx', sheet_name='Chickpea'); chickpea['crop'] = 'chickpea'\n",
    "mustard = pd.read_excel('../data/prepared.xlsx', sheet_name='Mustard')  ; mustard['crop']  = 'mustard'"
   ]
  },
  {
   "cell_type": "code",
   "execution_count": 3,
   "metadata": {},
   "outputs": [],
   "source": [
    "data = pd.concat([cowpea, rice, maize, chickpea, mustard], axis=0).reset_index(drop=True)"
   ]
  },
  {
   "cell_type": "code",
   "execution_count": 4,
   "metadata": {},
   "outputs": [],
   "source": [
    "clf = LocalOutlierFactor(n_neighbors=20)\n",
    "\n",
    "new_data = []\n",
    "org_cols = data.columns\n",
    "for i, outlier_label in enumerate(clf.fit_predict(data[['GSR', 'CT']])):\n",
    "    if outlier_label==1:\n",
    "        new_data.append(data.iloc[i,:])\n",
    "data = pd.DataFrame(new_data, columns=org_cols)"
   ]
  },
  {
   "cell_type": "code",
   "execution_count": 5,
   "metadata": {},
   "outputs": [],
   "source": [
    "data = data[(data['GSR']<300) | (data['Rn']>150)]\n",
    "data = data[(data['Rn']<500) | (data['crop']!='cowpea')]\n",
    "data = data[(data['Rn']<400) | (data['GSR']>500) | (data['crop']!='rice')]\n",
    "data = data[(data['Rn']<300) | (data['GSR']>375)]"
   ]
  },
  {
   "cell_type": "code",
   "execution_count": 6,
   "metadata": {},
   "outputs": [],
   "source": [
    "data.loc[:, 'Time'] = data.loc[:, 'Time'].apply(lambda x: x.hour)"
   ]
  },
  {
   "cell_type": "code",
   "execution_count": 7,
   "metadata": {},
   "outputs": [],
   "source": [
    "data.loc[:, 'timesin'] = np.sin(data.loc[:, 'Time'] * (2 * np.pi) / 12)\n",
    "data.loc[:, 'timecos'] = np.cos(data.loc[:, 'Time'] * (2 * np.pi) / 12)"
   ]
  },
  {
   "cell_type": "code",
   "execution_count": 8,
   "metadata": {},
   "outputs": [],
   "source": [
    "# ohe = OneHotEncoder(sparse=False)\n",
    "# df = ohe.fit_transform(data['crop'].values.reshape(-1,1))\n",
    "\n",
    "# print(df.shape)\n",
    "# df = pd.DataFrame(df, columns=ohe.get_feature_names(['crop']))\n",
    "df = pd.get_dummies(data[['crop']])\n",
    "data = pd.concat([df, data], axis=1)"
   ]
  },
  {
   "cell_type": "code",
   "execution_count": 9,
   "metadata": {},
   "outputs": [],
   "source": [
    "scalerx = StandardScaler()\n",
    "scalery = StandardScaler()\n",
    "data[['GSR','CT',]] = scalerx.fit_transform(data[['GSR','CT']])\n",
    "data[['Rn']] = scalery.fit_transform(data[['Rn']])"
   ]
  },
  {
   "cell_type": "code",
   "execution_count": 10,
   "metadata": {},
   "outputs": [
    {
     "data": {
      "text/plain": [
       "Index(['crop_chickpea', 'crop_cowpea', 'crop_maize', 'crop_mustard',\n",
       "       'crop_rice', 'Date', 'Time', 'GSR', 'CT', 'Rn', 'crop', 'ST_5cm',\n",
       "       'ST_10cm', 'ST_15cm', 'timesin', 'timecos'],\n",
       "      dtype='object')"
      ]
     },
     "execution_count": 10,
     "metadata": {},
     "output_type": "execute_result"
    }
   ],
   "source": [
    "data.columns"
   ]
  },
  {
   "cell_type": "code",
   "execution_count": 11,
   "metadata": {},
   "outputs": [],
   "source": [
    "feature_cols = [c for c in data.columns if c not in ['ST_5cm','ST_10cm','ST_15cm','Date','Time','crop','Rn']]\n",
    "X = data[feature_cols]\n",
    "y = data['Rn']"
   ]
  },
  {
   "cell_type": "code",
   "execution_count": 12,
   "metadata": {},
   "outputs": [],
   "source": [
    "estimators = [\n",
    "    ('GBR', GradientBoostingRegressor(random_state=42)),\n",
    "    ('RF', RandomForestRegressor(random_state=42)),\n",
    "    ('Ridge pipeline', Pipeline(steps=[\n",
    "#         ('powert', PowerTransformer()),\n",
    "        ('poly2', PolynomialFeatures(degree=2, interaction_only=True)),\n",
    "        ('ridgef', Ridge(alpha=50, random_state=42))\n",
    "    ])),\n",
    "    ('ridge', Ridge(alpha=40, random_state=42)),\n",
    "    ('SVR', SVR(kernel='rbf', gamma='auto', C=0.05)),\n",
    "    ('adaboost', AdaBoostRegressor())\n",
    "]"
   ]
  },
  {
   "cell_type": "code",
   "execution_count": 13,
   "metadata": {},
   "outputs": [],
   "source": [
    "# Use KFold croos validation\n",
    "kfold = KFold(n_splits=5)"
   ]
  },
  {
   "cell_type": "code",
   "execution_count": 14,
   "metadata": {},
   "outputs": [],
   "source": [
    "# Train all models\n",
    "def train(estimators, X, y, cv, scoring, verbose):\n",
    "    if verbose:\n",
    "        print(\"Scoring criteria:\", str(scoring))\n",
    "        print(\"CV:\", cv)\n",
    "        print(\"y std:\", np.std(y))\n",
    "        print('\\n')\n",
    "    for model in estimators if isinstance(estimators, list) else [estimators]:\n",
    "        model[1].fit(X, y)\n",
    "        cross_scores = cross_val_score(model[1], X, y, scoring=scoring, cv=cv)\n",
    "        if verbose:\n",
    "            print(model[0], \"mean cv score:\", np.mean(cross_scores))\n",
    "            print(model[0], \"all cv scores:\", cross_scores)\n",
    "            print('\\n')"
   ]
  },
  {
   "cell_type": "code",
   "execution_count": 15,
   "metadata": {},
   "outputs": [],
   "source": [
    "all_mse = {}\n",
    "all_rmse = {}\n",
    "for model in estimators:\n",
    "    all_mse[model[0]] = []\n",
    "    all_rmse[model[0]] = []\n",
    "for (t_, v_) in kfold.split(X, y):\n",
    "    train(estimators=estimators, X=X.iloc[t_], y=y.iloc[t_], cv=5, scoring='neg_root_mean_squared_error', verbose=0)\n",
    "    for model in estimators:\n",
    "        y_pred = scalery.inverse_transform(model[1].predict(X.iloc[v_][feature_cols]).reshape(-1,1))\n",
    "        y_true = scalery.inverse_transform(y.iloc[v_].values.reshape(-1,1))\n",
    "        \n",
    "        mse = mean_squared_error(y_true, y_pred)\n",
    "        rmse = np.sqrt(mse)\n",
    "        \n",
    "        all_mse[model[0]].extend([mse])\n",
    "        all_rmse[model[0]].extend([rmse])"
   ]
  },
  {
   "cell_type": "code",
   "execution_count": 16,
   "metadata": {
    "scrolled": false
   },
   "outputs": [
    {
     "name": "stdout",
     "output_type": "stream",
     "text": [
      "GBR :\n",
      "All folds MSE : [5219.026349359445, 11783.826737626172, 4586.932721068801, 3100.6668608609225, 2310.8598352962954]\n",
      "All folds RMSE : [72.24282905146673, 108.55333591201227, 67.72689806176568, 55.6836318935908, 48.07140350870042]\n",
      "Mean MSE : 5400.2625008423265\n",
      "Mean RMSE : 70.45561968550717\n",
      "\n",
      "\n",
      "RF :\n",
      "All folds MSE : [3906.8322886621413, 11040.482670037767, 4661.574062083717, 2514.747887415392, 2320.22786228427]\n",
      "All folds RMSE : [62.5046581357113, 105.07370113419327, 68.27572088292966, 50.147262013148755, 48.16874362368475]\n",
      "Mean MSE : 4888.7729540966575\n",
      "Mean RMSE : 66.83401715793354\n",
      "\n",
      "\n",
      "Ridge pipeline :\n",
      "All folds MSE : [4500.631340086857, 15084.087761950641, 3714.4086045151284, 4398.81994912804, 3839.9865503351402]\n",
      "All folds RMSE : [67.08674489112478, 122.81729422988703, 60.94594822065802, 66.32360024250825, 61.96762501770695]\n",
      "Mean MSE : 6307.5868412031605\n",
      "Mean RMSE : 75.828242520377\n",
      "\n",
      "\n",
      "ridge :\n",
      "All folds MSE : [3343.0357624780163, 10930.911415926375, 3794.6581801916836, 3852.01219490431, 2974.593166247807]\n",
      "All folds RMSE : [57.818991365104395, 104.55099911491222, 61.60079691198551, 62.064580840478655, 54.53983100677712]\n",
      "Mean MSE : 4979.042143949639\n",
      "Mean RMSE : 68.11503984785159\n",
      "\n",
      "\n",
      "SVR :\n",
      "All folds MSE : [5475.508837398202, 14805.30158348215, 3866.0191723153903, 7998.174733364156, 4805.975403970574]\n",
      "All folds RMSE : [73.99668125935244, 121.67703802888263, 62.17732040153701, 89.4325149672319, 69.32514265380615]\n",
      "Mean MSE : 7390.195946106095\n",
      "Mean RMSE : 83.32173946216203\n",
      "\n",
      "\n",
      "adaboost :\n",
      "All folds MSE : [4642.2845603967535, 11382.605933115641, 4542.610987850496, 4057.671570134561, 3064.361902610881]\n",
      "All folds RMSE : [68.13431265079845, 106.68929624435452, 67.39889455955858, 63.699855338411574, 55.356678934080584]\n",
      "Mean MSE : 5537.906990821665\n",
      "Mean RMSE : 72.25580754544075\n",
      "\n",
      "\n"
     ]
    }
   ],
   "source": [
    "for model in estimators:\n",
    "    print(model[0],\":\")\n",
    "    print(\"All folds MSE :\", all_mse[model[0]])\n",
    "    print(\"All folds RMSE :\", all_rmse[model[0]])\n",
    "    print(\"Mean MSE :\", np.mean(all_mse[model[0]]))\n",
    "    print(\"Mean RMSE :\", np.mean(all_rmse[model[0]]))\n",
    "    print(\"\\n\")"
   ]
  },
  {
   "cell_type": "markdown",
   "metadata": {},
   "source": [
    "## Stacked estimator"
   ]
  },
  {
   "cell_type": "code",
   "execution_count": 17,
   "metadata": {},
   "outputs": [],
   "source": [
    "stacked_estimator = StackingRegressor(\n",
    "    estimators=estimators,\n",
    "    final_estimator=RandomForestRegressor(random_state=42)\n",
    ")"
   ]
  },
  {
   "cell_type": "code",
   "execution_count": 18,
   "metadata": {},
   "outputs": [
    {
     "name": "stdout",
     "output_type": "stream",
     "text": [
      "Stacked estimator mean cv score: -0.5050362031926395\n",
      "Stacked estimator all cv scores: [-0.46445612 -0.78159813 -0.47275788 -0.4221128  -0.38425609]\n"
     ]
    }
   ],
   "source": [
    "cross_scores = cross_val_score(\n",
    "    stacked_estimator,\n",
    "    X,\n",
    "    y,\n",
    "    scoring='neg_root_mean_squared_error',\n",
    "    cv=5\n",
    ")\n",
    "\n",
    "print(\"Stacked estimator mean cv score:\", np.mean(cross_scores))\n",
    "print(\"Stacked estimator all cv scores:\", cross_scores)"
   ]
  },
  {
   "cell_type": "code",
   "execution_count": 19,
   "metadata": {},
   "outputs": [
    {
     "name": "stdout",
     "output_type": "stream",
     "text": [
      "Stacked estimator MSE: 4509.8043997660225\n",
      "Stacked estimator RMSE: 67.15507724488165\n",
      "\n",
      "\n",
      "Stacked estimator MSE: 11637.930165315978\n",
      "Stacked estimator RMSE: 107.87923880578681\n",
      "\n",
      "\n",
      "Stacked estimator MSE: 4434.400908152341\n",
      "Stacked estimator RMSE: 66.59129754068726\n",
      "\n",
      "\n",
      "Stacked estimator MSE: 3447.0075352536614\n",
      "Stacked estimator RMSE: 58.71122154455366\n",
      "\n",
      "\n",
      "Stacked estimator MSE: 2627.8320032751058\n",
      "Stacked estimator RMSE: 51.26238390160085\n",
      "\n",
      "\n",
      "Stacked estimator mean MSE: 5331.395002352622\n",
      "Stacked estimator mean RMSE: 70.31984380750205\n"
     ]
    }
   ],
   "source": [
    "all_stacked_mses = []\n",
    "all_stacked_rmses = []\n",
    "for (t_, v_) in kfold.split(X, y):\n",
    "    stacked_estimator.fit(X.iloc[t_], y.iloc[t_])\n",
    "    y_pred = scalery.inverse_transform(stacked_estimator.predict(X.iloc[v_][feature_cols]).reshape(-1,1))\n",
    "    y_true = scalery.inverse_transform(y.iloc[v_].values.reshape(-1,1))\n",
    "    \n",
    "    mse = mean_squared_error(y_true, y_pred)\n",
    "    rmse = np.sqrt(mse)\n",
    "    \n",
    "    all_stacked_mses.append(mse)\n",
    "    all_stacked_rmses.append(rmse)\n",
    "    print(\"Stacked estimator MSE:\", mse)\n",
    "    print(\"Stacked estimator RMSE:\", rmse)\n",
    "    print(\"\\n\")\n",
    "\n",
    "print(\"Stacked estimator mean MSE:\", np.mean(all_stacked_mses))\n",
    "print(\"Stacked estimator mean RMSE:\", np.mean(all_stacked_rmses))"
   ]
  },
  {
   "cell_type": "code",
   "execution_count": null,
   "metadata": {},
   "outputs": [],
   "source": []
  },
  {
   "cell_type": "code",
   "execution_count": null,
   "metadata": {},
   "outputs": [],
   "source": []
  }
 ],
 "metadata": {
  "kernelspec": {
   "display_name": "Python 3",
   "language": "python",
   "name": "python3"
  },
  "language_info": {
   "codemirror_mode": {
    "name": "ipython",
    "version": 3
   },
   "file_extension": ".py",
   "mimetype": "text/x-python",
   "name": "python",
   "nbconvert_exporter": "python",
   "pygments_lexer": "ipython3",
   "version": "3.8.5"
  },
  "toc": {
   "base_numbering": 1,
   "nav_menu": {},
   "number_sections": true,
   "sideBar": true,
   "skip_h1_title": false,
   "title_cell": "Table of Contents",
   "title_sidebar": "Contents",
   "toc_cell": false,
   "toc_position": {},
   "toc_section_display": true,
   "toc_window_display": false
  }
 },
 "nbformat": 4,
 "nbformat_minor": 4
}
