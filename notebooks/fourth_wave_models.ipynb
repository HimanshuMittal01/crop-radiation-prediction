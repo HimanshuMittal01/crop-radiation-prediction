{
 "cells": [
  {
   "cell_type": "code",
   "execution_count": 1,
   "metadata": {},
   "outputs": [],
   "source": [
    "import numpy as np\n",
    "import pandas as pd\n",
    "import matplotlib.pyplot as plt\n",
    "import seaborn as sns\n",
    "\n",
    "import optuna\n",
    "from sklearn.neighbors import LocalOutlierFactor\n",
    "\n",
    "import tensorflow as tf\n",
    "from tensorflow.keras.models import Sequential\n",
    "from tensorflow.keras.layers import Dense\n",
    "from tensorflow.keras.optimizers import Adam"
   ]
  },
  {
   "cell_type": "code",
   "execution_count": 2,
   "metadata": {},
   "outputs": [],
   "source": [
    "cowpea = pd.read_excel('../data/prepared.xlsx', sheet_name='Cowpea')    ; cowpea['crop']   = 'cowpea'\n",
    "maize = pd.read_excel('../data/prepared.xlsx', sheet_name='Maize')      ; maize['crop']    = 'maize'\n",
    "rice = pd.read_excel('../data/prepared.xlsx', sheet_name='Rice')        ; rice['crop']     = 'rice'\n",
    "chickpea = pd.read_excel('../data/prepared.xlsx', sheet_name='Chickpea'); chickpea['crop'] = 'chickpea'\n",
    "mustard = pd.read_excel('../data/prepared.xlsx', sheet_name='Mustard')  ; mustard['crop']  = 'mustard'"
   ]
  },
  {
   "cell_type": "code",
   "execution_count": 3,
   "metadata": {},
   "outputs": [],
   "source": [
    "data = pd.concat([cowpea, rice, maize, chickpea, mustard], axis=0).reset_index(drop=True)\n",
    "\n",
    "# Remove outliers\n",
    "clf = LocalOutlierFactor(n_neighbors=20)\n",
    "new_data = []\n",
    "org_cols = data.columns\n",
    "for i, outlier_label in enumerate(clf.fit_predict(data[['GSR', 'CT']])):\n",
    "    if outlier_label==1:\n",
    "        new_data.append(data.iloc[i,:])\n",
    "data = pd.DataFrame(new_data, columns=org_cols)\n",
    "data = data[(data['GSR']<300) | (data['Rn']>150)]\n",
    "data = data[(data['Rn']<500) | (data['crop']!='cowpea')]\n",
    "data = data[(data['Rn']<400) | (data['GSR']>500) | (data['crop']!='rice')]\n",
    "data = data[(data['Rn']<300) | (data['GSR']>375)]\n",
    "\n",
    "data.loc[:, 'Time'] = data.loc[:, 'Time'].apply(lambda x: x.hour)\n",
    "data.loc[:, 'timesin'] = np.sin(data.loc[:, 'Time'] * (2 * np.pi) / 12)\n",
    "data.loc[:, 'timecos'] = np.cos(data.loc[:, 'Time'] * (2 * np.pi) / 12)\n",
    "df = pd.get_dummies(data[['crop']], drop_first=True)\n",
    "data = pd.concat([df, data], axis=1)"
   ]
  },
  {
   "cell_type": "code",
   "execution_count": 4,
   "metadata": {},
   "outputs": [],
   "source": [
    "feature_cols = [c for c in data.columns if c not in ['ST_5cm','ST_10cm','ST_15cm','Date','Time','crop','Rn']]\n",
    "X = data[feature_cols]\n",
    "y = data['Rn']"
   ]
  },
  {
   "cell_type": "code",
   "execution_count": 5,
   "metadata": {},
   "outputs": [
    {
     "name": "stdout",
     "output_type": "stream",
     "text": [
      "(285, 8)\n",
      "(285,)\n"
     ]
    }
   ],
   "source": [
    "print(X.shape)\n",
    "print(y.shape)"
   ]
  },
  {
   "cell_type": "code",
   "execution_count": 6,
   "metadata": {},
   "outputs": [],
   "source": [
    "def create_model(trial):\n",
    "    n_layers = trial.suggest_int('num_layers', 1, 6, 1)\n",
    "    model = Sequential()\n",
    "    model.add(Dense(trial.suggest_int('num_hidden_units', 8, 136, 8), input_shape=(len(feature_cols),), activation='relu'))\n",
    "    for i in range(n_layers):\n",
    "        model.add(Dense(trial.suggest_int('num_hidden_units', 8, 136, 8), activation='relu'))\n",
    "    model.add(Dense(1))\n",
    "    \n",
    "    return model"
   ]
  },
  {
   "cell_type": "code",
   "execution_count": 7,
   "metadata": {},
   "outputs": [],
   "source": [
    "def objective(trial):\n",
    "    model = create_model(trial)\n",
    "    optimizer = Adam(learning_rate=0.009)\n",
    "    \n",
    "    model.compile(optimizer=optimizer, loss='mse', metrics=[tf.keras.metrics.RootMeanSquaredError()])\n",
    "    \n",
    "    # Model summary\n",
    "    # print(model.summary())\n",
    "    \n",
    "    history = model.fit(X, y, validation_split=0.2, epochs=3000, batch_size=512, verbose=0, )\n",
    "    \n",
    "    print(\"Training loss:\", np.min(history.history['loss']))\n",
    "    print(\"Validation loss:\", np.min(history.history['val_loss']))\n",
    "\n",
    "    if 'root_mean_squared_error' in history.history.keys():\n",
    "        print(\"Training loss:\", np.min(history.history['root_mean_squared_error']))\n",
    "        print(\"Validation loss:\", np.min(history.history['val_root_mean_squared_error']))\n",
    "    \n",
    "    return np.min(history.history['val_root_mean_squared_error'])"
   ]
  },
  {
   "cell_type": "code",
   "execution_count": 8,
   "metadata": {},
   "outputs": [
    {
     "name": "stderr",
     "output_type": "stream",
     "text": [
      "[I 2020-10-18 20:59:47,670] A new study created in memory with name: no-name-7b7a3333-a904-4f30-b47e-fd174b6c1b94\n"
     ]
    },
    {
     "name": "stdout",
     "output_type": "stream",
     "text": [
      "Training loss: 1093.0751953125\n",
      "Validation loss: 1284.215087890625\n",
      "Training loss: 33.06168746948242\n",
      "Validation loss: 35.83594512939453\n"
     ]
    },
    {
     "name": "stderr",
     "output_type": "stream",
     "text": [
      "[I 2020-10-18 21:00:42,363] Trial 0 finished with value: 35.83594512939453 and parameters: {'num_layers': 2, 'num_hidden_units': 88}. Best is trial 0 with value: 35.83594512939453.\n"
     ]
    },
    {
     "name": "stdout",
     "output_type": "stream",
     "text": [
      "Training loss: 1638.5501708984375\n",
      "Validation loss: 1788.971923828125\n",
      "Training loss: 40.479007720947266\n",
      "Validation loss: 42.296241760253906\n"
     ]
    },
    {
     "name": "stderr",
     "output_type": "stream",
     "text": [
      "[I 2020-10-18 21:01:37,359] Trial 1 finished with value: 42.296241760253906 and parameters: {'num_layers': 6, 'num_hidden_units': 32}. Best is trial 0 with value: 35.83594512939453.\n"
     ]
    },
    {
     "name": "stdout",
     "output_type": "stream",
     "text": [
      "Training loss: 2065.72607421875\n",
      "Validation loss: 1199.529052734375\n",
      "Training loss: 45.450260162353516\n",
      "Validation loss: 34.63421630859375\n"
     ]
    },
    {
     "name": "stderr",
     "output_type": "stream",
     "text": [
      "[I 2020-10-18 21:02:31,598] Trial 2 finished with value: 34.63421630859375 and parameters: {'num_layers': 5, 'num_hidden_units': 16}. Best is trial 2 with value: 34.63421630859375.\n"
     ]
    },
    {
     "name": "stdout",
     "output_type": "stream",
     "text": [
      "Training loss: 1871.291259765625\n",
      "Validation loss: 1505.330078125\n",
      "Training loss: 43.2584228515625\n",
      "Validation loss: 38.798583984375\n"
     ]
    },
    {
     "name": "stderr",
     "output_type": "stream",
     "text": [
      "[I 2020-10-18 21:03:25,579] Trial 3 finished with value: 38.798583984375 and parameters: {'num_layers': 5, 'num_hidden_units': 24}. Best is trial 2 with value: 34.63421630859375.\n"
     ]
    },
    {
     "name": "stdout",
     "output_type": "stream",
     "text": [
      "Training loss: 1258.5758056640625\n",
      "Validation loss: 1305.3184814453125\n",
      "Training loss: 35.47641372680664\n",
      "Validation loss: 36.12919235229492\n"
     ]
    },
    {
     "name": "stderr",
     "output_type": "stream",
     "text": [
      "[I 2020-10-18 21:04:18,721] Trial 4 finished with value: 36.12919235229492 and parameters: {'num_layers': 2, 'num_hidden_units': 112}. Best is trial 2 with value: 34.63421630859375.\n"
     ]
    },
    {
     "name": "stdout",
     "output_type": "stream",
     "text": [
      "Training loss: 2208.16357421875\n",
      "Validation loss: 1944.607421875\n",
      "Training loss: 46.9911003112793\n",
      "Validation loss: 44.09770202636719\n"
     ]
    },
    {
     "name": "stderr",
     "output_type": "stream",
     "text": [
      "[I 2020-10-18 21:05:13,488] Trial 5 finished with value: 44.09770202636719 and parameters: {'num_layers': 6, 'num_hidden_units': 16}. Best is trial 2 with value: 34.63421630859375.\n"
     ]
    },
    {
     "name": "stdout",
     "output_type": "stream",
     "text": [
      "Training loss: 1288.72412109375\n",
      "Validation loss: 1443.695556640625\n",
      "Training loss: 35.8988037109375\n",
      "Validation loss: 37.995994567871094\n"
     ]
    },
    {
     "name": "stderr",
     "output_type": "stream",
     "text": [
      "[I 2020-10-18 21:06:06,453] Trial 6 finished with value: 37.995994567871094 and parameters: {'num_layers': 2, 'num_hidden_units': 88}. Best is trial 2 with value: 34.63421630859375.\n"
     ]
    },
    {
     "name": "stdout",
     "output_type": "stream",
     "text": [
      "Training loss: 2107.791015625\n",
      "Validation loss: 1913.0765380859375\n",
      "Training loss: 45.91068649291992\n",
      "Validation loss: 43.738731384277344\n"
     ]
    },
    {
     "name": "stderr",
     "output_type": "stream",
     "text": [
      "[I 2020-10-18 21:06:59,666] Trial 7 finished with value: 43.738731384277344 and parameters: {'num_layers': 4, 'num_hidden_units': 24}. Best is trial 2 with value: 34.63421630859375.\n"
     ]
    },
    {
     "name": "stdout",
     "output_type": "stream",
     "text": [
      "Training loss: 1074.787109375\n",
      "Validation loss: 1502.041259765625\n",
      "Training loss: 32.7839469909668\n",
      "Validation loss: 38.75617599487305\n"
     ]
    },
    {
     "name": "stderr",
     "output_type": "stream",
     "text": [
      "[I 2020-10-18 21:07:53,262] Trial 8 finished with value: 38.75617599487305 and parameters: {'num_layers': 5, 'num_hidden_units': 96}. Best is trial 2 with value: 34.63421630859375.\n"
     ]
    },
    {
     "name": "stdout",
     "output_type": "stream",
     "text": [
      "Training loss: 1412.5081787109375\n",
      "Validation loss: 1126.55615234375\n",
      "Training loss: 37.583351135253906\n",
      "Validation loss: 33.564208984375\n"
     ]
    },
    {
     "name": "stderr",
     "output_type": "stream",
     "text": [
      "[I 2020-10-18 21:08:45,765] Trial 9 finished with value: 33.564208984375 and parameters: {'num_layers': 2, 'num_hidden_units': 112}. Best is trial 9 with value: 33.564208984375.\n"
     ]
    },
    {
     "name": "stdout",
     "output_type": "stream",
     "text": [
      "Training loss: 1688.0821533203125\n",
      "Validation loss: 1438.3067626953125\n",
      "Training loss: 41.08627700805664\n",
      "Validation loss: 37.92501449584961\n"
     ]
    },
    {
     "name": "stderr",
     "output_type": "stream",
     "text": [
      "[I 2020-10-18 21:09:37,972] Trial 10 finished with value: 37.92501449584961 and parameters: {'num_layers': 1, 'num_hidden_units': 136}. Best is trial 9 with value: 33.564208984375.\n"
     ]
    },
    {
     "name": "stdout",
     "output_type": "stream",
     "text": [
      "Training loss: 1865.5423583984375\n",
      "Validation loss: 1549.9150390625\n",
      "Training loss: 43.191925048828125\n",
      "Validation loss: 39.368961334228516\n"
     ]
    },
    {
     "name": "stderr",
     "output_type": "stream",
     "text": [
      "[I 2020-10-18 21:10:31,301] Trial 11 finished with value: 39.368961334228516 and parameters: {'num_layers': 3, 'num_hidden_units': 56}. Best is trial 9 with value: 33.564208984375.\n"
     ]
    },
    {
     "name": "stdout",
     "output_type": "stream",
     "text": [
      "Training loss: 1208.6866455078125\n",
      "Validation loss: 1418.2607421875\n",
      "Training loss: 34.766170501708984\n",
      "Validation loss: 37.6598014831543\n"
     ]
    },
    {
     "name": "stderr",
     "output_type": "stream",
     "text": [
      "[I 2020-10-18 21:11:25,159] Trial 12 finished with value: 37.6598014831543 and parameters: {'num_layers': 4, 'num_hidden_units': 128}. Best is trial 9 with value: 33.564208984375.\n"
     ]
    },
    {
     "name": "stdout",
     "output_type": "stream",
     "text": [
      "Training loss: 2106.3203125\n",
      "Validation loss: 1285.69873046875\n",
      "Training loss: 45.8946647644043\n",
      "Validation loss: 35.85663986206055\n"
     ]
    },
    {
     "name": "stderr",
     "output_type": "stream",
     "text": [
      "[I 2020-10-18 21:12:17,880] Trial 13 finished with value: 35.85663986206055 and parameters: {'num_layers': 1, 'num_hidden_units': 56}. Best is trial 9 with value: 33.564208984375.\n"
     ]
    },
    {
     "name": "stdout",
     "output_type": "stream",
     "text": [
      "Training loss: 1823.903076171875\n",
      "Validation loss: 1775.5633544921875\n",
      "Training loss: 42.70718002319336\n",
      "Validation loss: 42.13743591308594\n"
     ]
    },
    {
     "name": "stderr",
     "output_type": "stream",
     "text": [
      "[I 2020-10-18 21:13:12,321] Trial 14 finished with value: 42.13743591308594 and parameters: {'num_layers': 3, 'num_hidden_units': 64}. Best is trial 9 with value: 33.564208984375.\n"
     ]
    },
    {
     "name": "stdout",
     "output_type": "stream",
     "text": [
      "Training loss: 1113.258056640625\n",
      "Validation loss: 1313.9063720703125\n",
      "Training loss: 33.36552047729492\n",
      "Validation loss: 36.24784469604492\n"
     ]
    },
    {
     "name": "stderr",
     "output_type": "stream",
     "text": [
      "[I 2020-10-18 21:14:05,436] Trial 15 finished with value: 36.24784469604492 and parameters: {'num_layers': 5, 'num_hidden_units': 112}. Best is trial 9 with value: 33.564208984375.\n"
     ]
    },
    {
     "name": "stdout",
     "output_type": "stream",
     "text": [
      "Training loss: 990.3875122070312\n",
      "Validation loss: 1455.240234375\n",
      "Training loss: 31.470422744750977\n",
      "Validation loss: 38.14760971069336\n"
     ]
    },
    {
     "name": "stderr",
     "output_type": "stream",
     "text": [
      "[I 2020-10-18 21:14:57,735] Trial 16 finished with value: 38.14760971069336 and parameters: {'num_layers': 4, 'num_hidden_units': 120}. Best is trial 9 with value: 33.564208984375.\n"
     ]
    },
    {
     "name": "stdout",
     "output_type": "stream",
     "text": [
      "Training loss: 2456.85546875\n",
      "Validation loss: 1359.73974609375\n",
      "Training loss: 49.56667709350586\n",
      "Validation loss: 36.87464904785156\n"
     ]
    },
    {
     "name": "stderr",
     "output_type": "stream",
     "text": [
      "[I 2020-10-18 21:15:49,218] Trial 17 finished with value: 36.87464904785156 and parameters: {'num_layers': 3, 'num_hidden_units': 8}. Best is trial 9 with value: 33.564208984375.\n"
     ]
    },
    {
     "name": "stdout",
     "output_type": "stream",
     "text": [
      "Training loss: 2202.802001953125\n",
      "Validation loss: 1732.7283935546875\n",
      "Training loss: 46.934017181396484\n",
      "Validation loss: 41.62605285644531\n"
     ]
    },
    {
     "name": "stderr",
     "output_type": "stream",
     "text": [
      "[I 2020-10-18 21:16:39,780] Trial 18 finished with value: 41.62605285644531 and parameters: {'num_layers': 1, 'num_hidden_units': 40}. Best is trial 9 with value: 33.564208984375.\n"
     ]
    },
    {
     "name": "stdout",
     "output_type": "stream",
     "text": [
      "Training loss: 1826.6649169921875\n",
      "Validation loss: 1503.4007568359375\n",
      "Training loss: 42.739501953125\n",
      "Validation loss: 38.773712158203125\n"
     ]
    },
    {
     "name": "stderr",
     "output_type": "stream",
     "text": [
      "[I 2020-10-18 21:17:34,137] Trial 19 finished with value: 38.773712158203125 and parameters: {'num_layers': 6, 'num_hidden_units': 80}. Best is trial 9 with value: 33.564208984375.\n"
     ]
    },
    {
     "name": "stdout",
     "output_type": "stream",
     "text": [
      "{'num_layers': 2, 'num_hidden_units': 112}\n"
     ]
    }
   ],
   "source": [
    "study = optuna.create_study(direction='minimize')\n",
    "study.optimize(objective, n_trials=20)\n",
    "\n",
    "print(study.best_params)"
   ]
  },
  {
   "cell_type": "code",
   "execution_count": null,
   "metadata": {},
   "outputs": [],
   "source": []
  }
 ],
 "metadata": {
  "kernelspec": {
   "display_name": "Python 3",
   "language": "python",
   "name": "python3"
  },
  "language_info": {
   "codemirror_mode": {
    "name": "ipython",
    "version": 3
   },
   "file_extension": ".py",
   "mimetype": "text/x-python",
   "name": "python",
   "nbconvert_exporter": "python",
   "pygments_lexer": "ipython3",
   "version": "3.8.5"
  },
  "toc": {
   "base_numbering": 1,
   "nav_menu": {},
   "number_sections": true,
   "sideBar": true,
   "skip_h1_title": false,
   "title_cell": "Table of Contents",
   "title_sidebar": "Contents",
   "toc_cell": false,
   "toc_position": {},
   "toc_section_display": true,
   "toc_window_display": false
  }
 },
 "nbformat": 4,
 "nbformat_minor": 4
}
