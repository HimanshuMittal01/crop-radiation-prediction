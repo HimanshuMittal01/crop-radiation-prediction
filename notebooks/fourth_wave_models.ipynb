{
 "cells": [
  {
   "cell_type": "code",
   "execution_count": 57,
   "metadata": {},
   "outputs": [],
   "source": [
    "import numpy as np\n",
    "import pandas as pd\n",
    "import matplotlib.pyplot as plt\n",
    "import seaborn as sns\n",
    "\n",
    "from sklearn.preprocessing import StandardScaler, MinMaxScaler, RobustScaler, QuantileTransformer\n",
    "\n",
    "from sklearn.ensemble import RandomForestRegressor, GradientBoostingRegressor\n",
    "from sklearn.linear_model import Ridge, Lasso\n",
    "from sklearn.svm import SVR\n",
    "from sklearn.gaussian_process import GaussianProcessRegressor\n",
    "from sklearn.ensemble import StackingRegressor, AdaBoostRegressor\n",
    "\n",
    "from sklearn.pipeline import Pipeline\n",
    "from sklearn.preprocessing import PolynomialFeatures, PowerTransformer, OneHotEncoder\n",
    "from sklearn.model_selection import cross_val_score, KFold\n",
    "from sklearn.metrics import mean_squared_error"
   ]
  },
  {
   "cell_type": "code",
   "execution_count": 58,
   "metadata": {},
   "outputs": [],
   "source": [
    "cowpea = pd.read_excel('../data/prepared.xlsx', sheet_name='Cowpea')    ; cowpea['crop']   = 'cowpea'\n",
    "maize = pd.read_excel('../data/prepared.xlsx', sheet_name='Maize')      ; maize['crop']    = 'maize'\n",
    "rice = pd.read_excel('../data/prepared.xlsx', sheet_name='Rice')        ; rice['crop']     = 'rice'\n",
    "chickpea = pd.read_excel('../data/prepared.xlsx', sheet_name='Chickpea'); chickpea['crop'] = 'chickpea'\n",
    "mustard = pd.read_excel('../data/prepared.xlsx', sheet_name='Mustard')  ; mustard['crop']  = 'mustard'"
   ]
  },
  {
   "cell_type": "code",
   "execution_count": 59,
   "metadata": {},
   "outputs": [],
   "source": [
    "data = pd.concat([cowpea, rice, maize, chickpea, mustard], axis=0).reset_index(drop=True)"
   ]
  },
  {
   "cell_type": "code",
   "execution_count": 60,
   "metadata": {},
   "outputs": [],
   "source": [
    "# Remove outliers\n",
    "data = data[data['GSR']<=1000]"
   ]
  },
  {
   "cell_type": "code",
   "execution_count": 61,
   "metadata": {},
   "outputs": [],
   "source": [
    "data.loc[:, 'Time'] = data.loc[:, 'Time'].apply(lambda x: x.hour)"
   ]
  },
  {
   "cell_type": "code",
   "execution_count": 62,
   "metadata": {},
   "outputs": [],
   "source": [
    "data.loc[:, 'timesin'] = np.sin(data.loc[:, 'Time'] * (2 * np.pi) / 12)\n",
    "data.loc[:, 'timecos'] = np.cos(data.loc[:, 'Time'] * (2 * np.pi) / 12)"
   ]
  },
  {
   "cell_type": "code",
   "execution_count": 64,
   "metadata": {},
   "outputs": [],
   "source": [
    "# ohe = OneHotEncoder(sparse=False)\n",
    "# df = ohe.fit_transform(data['crop'].values.reshape(-1,1))\n",
    "\n",
    "# print(df.shape)\n",
    "# df = pd.DataFrame(df, columns=ohe.get_feature_names(['crop']))\n",
    "df = pd.get_dummies(data[['crop']])\n",
    "data = pd.concat([df, data], axis=1)"
   ]
  },
  {
   "cell_type": "code",
   "execution_count": 66,
   "metadata": {},
   "outputs": [],
   "source": [
    "scalerx = StandardScaler()\n",
    "scalery = StandardScaler()\n",
    "data[['GSR','CT',]] = scalerx.fit_transform(data[['GSR','CT']])\n",
    "data[['Rn']] = scalery.fit_transform(data[['Rn']])"
   ]
  },
  {
   "cell_type": "code",
   "execution_count": 67,
   "metadata": {},
   "outputs": [
    {
     "data": {
      "text/plain": [
       "Index(['crop_chickpea', 'crop_cowpea', 'crop_maize', 'crop_mustard',\n",
       "       'crop_rice', 'Date', 'Time', 'GSR', 'CT', 'Rn', 'crop', 'ST_5cm',\n",
       "       'ST_10cm', 'ST_15cm', 'timesin', 'timecos'],\n",
       "      dtype='object')"
      ]
     },
     "execution_count": 67,
     "metadata": {},
     "output_type": "execute_result"
    }
   ],
   "source": [
    "data.columns"
   ]
  },
  {
   "cell_type": "code",
   "execution_count": 68,
   "metadata": {},
   "outputs": [],
   "source": [
    "feature_cols = [c for c in data.columns if c not in ['ST_5cm','ST_10cm','ST_15cm','Date','Time','crop','Rn']]\n",
    "X = data[feature_cols]\n",
    "y = data['Rn']"
   ]
  },
  {
   "cell_type": "code",
   "execution_count": 74,
   "metadata": {},
   "outputs": [],
   "source": [
    "estimators = [\n",
    "    ('GBR', GradientBoostingRegressor(random_state=42)),\n",
    "    ('RF', RandomForestRegressor(random_state=42)),\n",
    "    ('Ridge pipeline', Pipeline(steps=[\n",
    "#         ('powert', PowerTransformer()),\n",
    "        ('poly2', PolynomialFeatures(degree=2, interaction_only=True)),\n",
    "        ('ridgef', Ridge(alpha=50, random_state=42))\n",
    "    ])),\n",
    "    ('ridge', Ridge(alpha=40, random_state=42)),\n",
    "    ('SVR', SVR(kernel='rbf', gamma='auto', C=0.05)),\n",
    "    ('adaboost', AdaBoostRegressor())\n",
    "]"
   ]
  },
  {
   "cell_type": "code",
   "execution_count": 75,
   "metadata": {},
   "outputs": [],
   "source": [
    "# Use KFold croos validation\n",
    "kfold = KFold(n_splits=5)"
   ]
  },
  {
   "cell_type": "code",
   "execution_count": 76,
   "metadata": {},
   "outputs": [],
   "source": [
    "# Train all models\n",
    "def train(estimators, X, y, cv, scoring, verbose):\n",
    "    if verbose:\n",
    "        print(\"Scoring criteria:\", str(scoring))\n",
    "        print(\"CV:\", cv)\n",
    "        print(\"y std:\", np.std(y))\n",
    "        print('\\n')\n",
    "    for model in estimators if isinstance(estimators, list) else [estimators]:\n",
    "        model[1].fit(X, y)\n",
    "        cross_scores = cross_val_score(model[1], X, y, scoring=scoring, cv=cv)\n",
    "        if verbose:\n",
    "            print(model[0], \"mean cv score:\", np.mean(cross_scores))\n",
    "            print(model[0], \"all cv scores:\", cross_scores)\n",
    "            print('\\n')"
   ]
  },
  {
   "cell_type": "code",
   "execution_count": 77,
   "metadata": {},
   "outputs": [],
   "source": [
    "all_mse = {}\n",
    "all_rmse = {}\n",
    "for model in estimators:\n",
    "    all_mse[model[0]] = []\n",
    "    all_rmse[model[0]] = []\n",
    "for (t_, v_) in kfold.split(X, y):\n",
    "    train(estimators=estimators, X=X.iloc[t_], y=y.iloc[t_], cv=5, scoring='neg_root_mean_squared_error', verbose=0)\n",
    "    for model in estimators:\n",
    "        y_pred = scalery.inverse_transform(model[1].predict(X.iloc[v_][feature_cols]).reshape(-1,1))\n",
    "        y_true = scalery.inverse_transform(y.iloc[v_].values.reshape(-1,1))\n",
    "        \n",
    "        mse = mean_squared_error(y_true, y_pred)\n",
    "        rmse = np.sqrt(mse)\n",
    "        \n",
    "        all_mse[model[0]].extend([mse])\n",
    "        all_rmse[model[0]].extend([rmse])"
   ]
  },
  {
   "cell_type": "code",
   "execution_count": 78,
   "metadata": {
    "scrolled": false
   },
   "outputs": [
    {
     "name": "stdout",
     "output_type": "stream",
     "text": [
      "GBR :\n",
      "All folds MSE : [12598.311095915818, 14664.53684179979, 8039.526879477582, 25509.508318974044, 24455.278495339215]\n",
      "All folds RMSE : [112.24219837438956, 121.09722061963186, 89.66340881026989, 159.71696315349237, 156.38183556711186]\n",
      "Mean MSE : 17053.43232630129\n",
      "Mean RMSE : 127.82032530497911\n",
      "\n",
      "\n",
      "RF :\n",
      "All folds MSE : [11549.189954335452, 15154.338020048152, 8660.470328089932, 24205.887371169345, 19341.267843071128]\n",
      "All folds RMSE : [107.46715756144037, 123.10295699148803, 93.06164799792626, 155.58241343792474, 139.07288680066696]\n",
      "Mean MSE : 15782.230703342802\n",
      "Mean RMSE : 123.65741255788927\n",
      "\n",
      "\n",
      "Ridge pipeline :\n",
      "All folds MSE : [14360.286162650207, 14981.365432442382, 5223.845766509721, 26006.147738467404, 21153.424651108457]\n",
      "All folds RMSE : [119.83441142948134, 122.39838819380908, 72.27617703302882, 161.2642171669444, 145.44216943895074]\n",
      "Mean MSE : 16345.013950235636\n",
      "Mean RMSE : 124.24307265244288\n",
      "\n",
      "\n",
      "ridge :\n",
      "All folds MSE : [12424.740578982974, 11445.88013725188, 4934.790297498309, 26651.181095835254, 15149.40367401213]\n",
      "All folds RMSE : [111.46632037966883, 106.98542020879238, 70.24806258893058, 163.25189461637268, 123.08291381833682]\n",
      "Mean MSE : 14121.199156716111\n",
      "Mean RMSE : 115.00692232242027\n",
      "\n",
      "\n",
      "SVR :\n",
      "All folds MSE : [15133.933578607444, 12824.518621150415, 4741.835293897302, 24987.107370155114, 11208.456472186124]\n",
      "All folds RMSE : [123.0200535628539, 113.24539116957659, 68.86098528119753, 158.07310767538897, 105.86999797953207]\n",
      "Mean MSE : 13779.170267199279\n",
      "Mean RMSE : 113.81390713370982\n",
      "\n",
      "\n",
      "adaboost :\n",
      "All folds MSE : [12944.663457611972, 17916.359331725034, 8369.52763570712, 25424.043893914033, 12907.200387305136]\n",
      "All folds RMSE : [113.77461693019218, 133.85200533322254, 91.48512248287761, 159.44918906634186, 113.60986043167703]\n",
      "Mean MSE : 15512.358941252658\n",
      "Mean RMSE : 122.43415884886224\n",
      "\n",
      "\n"
     ]
    }
   ],
   "source": [
    "for model in estimators:\n",
    "    print(model[0],\":\")\n",
    "    print(\"All folds MSE :\", all_mse[model[0]])\n",
    "    print(\"All folds RMSE :\", all_rmse[model[0]])\n",
    "    print(\"Mean MSE :\", np.mean(all_mse[model[0]]))\n",
    "    print(\"Mean RMSE :\", np.mean(all_rmse[model[0]]))\n",
    "    print(\"\\n\")"
   ]
  },
  {
   "cell_type": "markdown",
   "metadata": {},
   "source": [
    "## Stacked estimator"
   ]
  },
  {
   "cell_type": "code",
   "execution_count": null,
   "metadata": {},
   "outputs": [],
   "source": [
    "stacked_estimator = StackingRegressor(\n",
    "    estimators=estimators,\n",
    "    final_estimator=RandomForestRegressor(random_state=42)\n",
    ")"
   ]
  },
  {
   "cell_type": "code",
   "execution_count": null,
   "metadata": {},
   "outputs": [],
   "source": [
    "cross_scores = cross_val_score(\n",
    "    stacked_estimator,\n",
    "    X,\n",
    "    y,\n",
    "    scoring='neg_root_mean_squared_error',\n",
    "    cv=5\n",
    ")\n",
    "\n",
    "print(\"Stacked estimator mean cv score:\", np.mean(cross_scores))\n",
    "print(\"Stacked estimator all cv scores:\", cross_scores)"
   ]
  },
  {
   "cell_type": "code",
   "execution_count": null,
   "metadata": {},
   "outputs": [],
   "source": [
    "all_stacked_mses = []\n",
    "all_stacked_rmses = []\n",
    "for (t_, v_) in kfold.split(X, y):\n",
    "    stacked_estimator.fit(X.iloc[t_], y.iloc[t_])\n",
    "    y_pred = scalery.inverse_transform(stacked_estimator.predict(X.iloc[v_][feature_cols]).reshape(-1,1))\n",
    "    y_true = scalery.inverse_transform(y.iloc[v_].values.reshape(-1,1))\n",
    "    \n",
    "    mse = mean_squared_error(y_true, y_pred)\n",
    "    rmse = np.sqrt(mse)\n",
    "    \n",
    "    all_stacked_mses.append(mse)\n",
    "    all_stacked_rmses.append(rmse)\n",
    "    print(\"Stacked estimator MSE:\", mse)\n",
    "    print(\"Stacked estimator RMSE:\", rmse)\n",
    "    print(\"\\n\")\n",
    "\n",
    "print(\"Stacked estimator mean MSE:\", np.mean(all_stacked_mses))\n",
    "print(\"Stacked estimator mean RMSE:\", np.mean(all_stacked_rmses))"
   ]
  },
  {
   "cell_type": "code",
   "execution_count": null,
   "metadata": {},
   "outputs": [],
   "source": []
  },
  {
   "cell_type": "code",
   "execution_count": null,
   "metadata": {},
   "outputs": [],
   "source": []
  }
 ],
 "metadata": {
  "kernelspec": {
   "display_name": "Python 3",
   "language": "python",
   "name": "python3"
  },
  "language_info": {
   "codemirror_mode": {
    "name": "ipython",
    "version": 3
   },
   "file_extension": ".py",
   "mimetype": "text/x-python",
   "name": "python",
   "nbconvert_exporter": "python",
   "pygments_lexer": "ipython3",
   "version": "3.8.5"
  },
  "toc": {
   "base_numbering": 1,
   "nav_menu": {},
   "number_sections": true,
   "sideBar": true,
   "skip_h1_title": false,
   "title_cell": "Table of Contents",
   "title_sidebar": "Contents",
   "toc_cell": false,
   "toc_position": {},
   "toc_section_display": true,
   "toc_window_display": false
  }
 },
 "nbformat": 4,
 "nbformat_minor": 4
}
