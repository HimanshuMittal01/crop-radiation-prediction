{
 "cells": [
  {
   "cell_type": "code",
   "execution_count": 1,
   "metadata": {},
   "outputs": [],
   "source": [
    "import numpy as np\n",
    "import pandas as pd\n",
    "import matplotlib.pyplot as plt\n",
    "import seaborn as sns\n",
    "\n",
    "from sklearn.preprocessing import StandardScaler, MinMaxScaler, RobustScaler\n",
    "\n",
    "from sklearn.ensemble import RandomForestRegressor, GradientBoostingRegressor\n",
    "from sklearn.linear_model import Ridge, Lasso\n",
    "from sklearn.svm import SVR\n",
    "from sklearn.gaussian_process import GaussianProcessRegressor\n",
    "from sklearn.ensemble import StackingRegressor\n",
    "\n",
    "from sklearn.model_selection import cross_val_score, KFold\n",
    "from sklearn.metrics import mean_squared_error"
   ]
  },
  {
   "cell_type": "code",
   "execution_count": 2,
   "metadata": {},
   "outputs": [],
   "source": [
    "cowpea = pd.read_excel('../data/prepared.xlsx', sheet_name='Cowpea')\n",
    "maize = pd.read_excel('../data/prepared.xlsx', sheet_name='Maize')\n",
    "rice = pd.read_excel('../data/prepared.xlsx', sheet_name='Rice')\n",
    "chickpea = pd.read_excel('../data/prepared.xlsx', sheet_name='Chickpea')\n",
    "mustard = pd.read_excel('../data/prepared.xlsx', sheet_name='Mustard')"
   ]
  },
  {
   "cell_type": "code",
   "execution_count": 3,
   "metadata": {},
   "outputs": [
    {
     "data": {
      "text/html": [
       "<div>\n",
       "<style scoped>\n",
       "    .dataframe tbody tr th:only-of-type {\n",
       "        vertical-align: middle;\n",
       "    }\n",
       "\n",
       "    .dataframe tbody tr th {\n",
       "        vertical-align: top;\n",
       "    }\n",
       "\n",
       "    .dataframe thead th {\n",
       "        text-align: right;\n",
       "    }\n",
       "</style>\n",
       "<table border=\"1\" class=\"dataframe\">\n",
       "  <thead>\n",
       "    <tr style=\"text-align: right;\">\n",
       "      <th></th>\n",
       "      <th>Date</th>\n",
       "      <th>Time</th>\n",
       "      <th>GSR</th>\n",
       "      <th>CT</th>\n",
       "      <th>Rn</th>\n",
       "      <th>ST_5cm</th>\n",
       "      <th>ST_10cm</th>\n",
       "      <th>ST_15cm</th>\n",
       "    </tr>\n",
       "  </thead>\n",
       "  <tbody>\n",
       "    <tr>\n",
       "      <th>0</th>\n",
       "      <td>2008-11-21</td>\n",
       "      <td>08:00:00</td>\n",
       "      <td>293.72</td>\n",
       "      <td>22.9</td>\n",
       "      <td>227.012</td>\n",
       "      <td>0.0</td>\n",
       "      <td>25.5</td>\n",
       "      <td>NaN</td>\n",
       "    </tr>\n",
       "    <tr>\n",
       "      <th>1</th>\n",
       "      <td>2008-11-21</td>\n",
       "      <td>09:00:00</td>\n",
       "      <td>325.19</td>\n",
       "      <td>26.3</td>\n",
       "      <td>279.908</td>\n",
       "      <td>22.5</td>\n",
       "      <td>23.5</td>\n",
       "      <td>NaN</td>\n",
       "    </tr>\n",
       "    <tr>\n",
       "      <th>2</th>\n",
       "      <td>2008-11-21</td>\n",
       "      <td>10:00:00</td>\n",
       "      <td>398.62</td>\n",
       "      <td>22.8</td>\n",
       "      <td>297.540</td>\n",
       "      <td>22.5</td>\n",
       "      <td>23.5</td>\n",
       "      <td>NaN</td>\n",
       "    </tr>\n",
       "    <tr>\n",
       "      <th>3</th>\n",
       "      <td>2008-11-21</td>\n",
       "      <td>11:00:00</td>\n",
       "      <td>440.58</td>\n",
       "      <td>27.7</td>\n",
       "      <td>328.396</td>\n",
       "      <td>24.0</td>\n",
       "      <td>25.0</td>\n",
       "      <td>NaN</td>\n",
       "    </tr>\n",
       "    <tr>\n",
       "      <th>4</th>\n",
       "      <td>2008-11-21</td>\n",
       "      <td>12:00:00</td>\n",
       "      <td>608.42</td>\n",
       "      <td>26.6</td>\n",
       "      <td>209.380</td>\n",
       "      <td>25.5</td>\n",
       "      <td>26.0</td>\n",
       "      <td>NaN</td>\n",
       "    </tr>\n",
       "  </tbody>\n",
       "</table>\n",
       "</div>"
      ],
      "text/plain": [
       "        Date      Time     GSR    CT       Rn  ST_5cm  ST_10cm  ST_15cm\n",
       "0 2008-11-21  08:00:00  293.72  22.9  227.012     0.0     25.5      NaN\n",
       "1 2008-11-21  09:00:00  325.19  26.3  279.908    22.5     23.5      NaN\n",
       "2 2008-11-21  10:00:00  398.62  22.8  297.540    22.5     23.5      NaN\n",
       "3 2008-11-21  11:00:00  440.58  27.7  328.396    24.0     25.0      NaN\n",
       "4 2008-11-21  12:00:00  608.42  26.6  209.380    25.5     26.0      NaN"
      ]
     },
     "execution_count": 3,
     "metadata": {},
     "output_type": "execute_result"
    }
   ],
   "source": [
    "mustard.head()"
   ]
  },
  {
   "cell_type": "code",
   "execution_count": 4,
   "metadata": {},
   "outputs": [
    {
     "data": {
      "text/html": [
       "<div>\n",
       "<style scoped>\n",
       "    .dataframe tbody tr th:only-of-type {\n",
       "        vertical-align: middle;\n",
       "    }\n",
       "\n",
       "    .dataframe tbody tr th {\n",
       "        vertical-align: top;\n",
       "    }\n",
       "\n",
       "    .dataframe thead th {\n",
       "        text-align: right;\n",
       "    }\n",
       "</style>\n",
       "<table border=\"1\" class=\"dataframe\">\n",
       "  <thead>\n",
       "    <tr style=\"text-align: right;\">\n",
       "      <th></th>\n",
       "      <th>GSR</th>\n",
       "      <th>CT</th>\n",
       "      <th>Rn</th>\n",
       "      <th>ST_5cm</th>\n",
       "      <th>ST_10cm</th>\n",
       "      <th>ST_15cm</th>\n",
       "    </tr>\n",
       "  </thead>\n",
       "  <tbody>\n",
       "    <tr>\n",
       "      <th>count</th>\n",
       "      <td>198.000000</td>\n",
       "      <td>198.000000</td>\n",
       "      <td>198.000000</td>\n",
       "      <td>198.000000</td>\n",
       "      <td>117.000000</td>\n",
       "      <td>81.000000</td>\n",
       "    </tr>\n",
       "    <tr>\n",
       "      <th>mean</th>\n",
       "      <td>450.487222</td>\n",
       "      <td>20.341237</td>\n",
       "      <td>190.816758</td>\n",
       "      <td>20.946970</td>\n",
       "      <td>21.775214</td>\n",
       "      <td>19.512346</td>\n",
       "    </tr>\n",
       "    <tr>\n",
       "      <th>std</th>\n",
       "      <td>258.278877</td>\n",
       "      <td>4.069704</td>\n",
       "      <td>136.756249</td>\n",
       "      <td>3.812851</td>\n",
       "      <td>3.110713</td>\n",
       "      <td>2.640141</td>\n",
       "    </tr>\n",
       "    <tr>\n",
       "      <th>min</th>\n",
       "      <td>31.470000</td>\n",
       "      <td>8.750000</td>\n",
       "      <td>-8.816000</td>\n",
       "      <td>0.000000</td>\n",
       "      <td>15.500000</td>\n",
       "      <td>14.500000</td>\n",
       "    </tr>\n",
       "    <tr>\n",
       "      <th>25%</th>\n",
       "      <td>254.382500</td>\n",
       "      <td>17.425000</td>\n",
       "      <td>77.691000</td>\n",
       "      <td>18.500000</td>\n",
       "      <td>20.000000</td>\n",
       "      <td>17.500000</td>\n",
       "    </tr>\n",
       "    <tr>\n",
       "      <th>50%</th>\n",
       "      <td>472.050000</td>\n",
       "      <td>20.800000</td>\n",
       "      <td>155.382000</td>\n",
       "      <td>21.000000</td>\n",
       "      <td>21.400000</td>\n",
       "      <td>19.500000</td>\n",
       "    </tr>\n",
       "    <tr>\n",
       "      <th>75%</th>\n",
       "      <td>618.910000</td>\n",
       "      <td>23.237500</td>\n",
       "      <td>303.876500</td>\n",
       "      <td>23.000000</td>\n",
       "      <td>23.500000</td>\n",
       "      <td>21.500000</td>\n",
       "    </tr>\n",
       "    <tr>\n",
       "      <th>max</th>\n",
       "      <td>1730.850000</td>\n",
       "      <td>30.250000</td>\n",
       "      <td>531.164000</td>\n",
       "      <td>29.500000</td>\n",
       "      <td>27.500000</td>\n",
       "      <td>25.700000</td>\n",
       "    </tr>\n",
       "  </tbody>\n",
       "</table>\n",
       "</div>"
      ],
      "text/plain": [
       "               GSR          CT          Rn      ST_5cm     ST_10cm    ST_15cm\n",
       "count   198.000000  198.000000  198.000000  198.000000  117.000000  81.000000\n",
       "mean    450.487222   20.341237  190.816758   20.946970   21.775214  19.512346\n",
       "std     258.278877    4.069704  136.756249    3.812851    3.110713   2.640141\n",
       "min      31.470000    8.750000   -8.816000    0.000000   15.500000  14.500000\n",
       "25%     254.382500   17.425000   77.691000   18.500000   20.000000  17.500000\n",
       "50%     472.050000   20.800000  155.382000   21.000000   21.400000  19.500000\n",
       "75%     618.910000   23.237500  303.876500   23.000000   23.500000  21.500000\n",
       "max    1730.850000   30.250000  531.164000   29.500000   27.500000  25.700000"
      ]
     },
     "execution_count": 4,
     "metadata": {},
     "output_type": "execute_result"
    }
   ],
   "source": [
    "mustard.describe()"
   ]
  },
  {
   "cell_type": "code",
   "execution_count": 5,
   "metadata": {},
   "outputs": [],
   "source": [
    "data = pd.concat([cowpea, rice, maize, chickpea, mustard], axis=0).reset_index(drop=True)"
   ]
  },
  {
   "cell_type": "code",
   "execution_count": 6,
   "metadata": {},
   "outputs": [],
   "source": [
    "scalerx = StandardScaler()\n",
    "scalery = StandardScaler()\n",
    "data[['GSR','CT']] = scalerx.fit_transform(data[['GSR','CT']])\n",
    "data[['Rn']] = scalery.fit_transform(data[['Rn']])"
   ]
  },
  {
   "cell_type": "code",
   "execution_count": 7,
   "metadata": {},
   "outputs": [],
   "source": [
    "X = data[['GSR','CT']]\n",
    "y = data['Rn']"
   ]
  },
  {
   "cell_type": "code",
   "execution_count": 8,
   "metadata": {},
   "outputs": [],
   "source": [
    "estimators = [\n",
    "    ('GBR', GradientBoostingRegressor(random_state=42)),\n",
    "    ('RF', RandomForestRegressor(random_state=42)),\n",
    "    ('Ridge', Ridge(random_state=42)),\n",
    "    ('SVR', SVR()),\n",
    "]"
   ]
  },
  {
   "cell_type": "code",
   "execution_count": 9,
   "metadata": {},
   "outputs": [],
   "source": [
    "# Use KFold croos validation\n",
    "kfold = KFold(n_splits=5)"
   ]
  },
  {
   "cell_type": "code",
   "execution_count": 10,
   "metadata": {},
   "outputs": [],
   "source": [
    "# Train all models\n",
    "def train(estimators, X, y, cv, scoring, verbose):\n",
    "    if verbose:\n",
    "        print(\"Scoring criteria:\", str(scoring))\n",
    "        print(\"CV:\", cv)\n",
    "        print(\"y std:\", np.std(y))\n",
    "        print('\\n')\n",
    "    for model in estimators if isinstance(estimators, list) else [estimators]:\n",
    "        model[1].fit(X, y)\n",
    "        cross_scores = cross_val_score(model[1], X, y, scoring=scoring, cv=cv)\n",
    "        if verbose:\n",
    "            print(model[0], \"mean cv score:\", np.mean(cross_scores))\n",
    "            print(model[0], \"all cv scores:\", cross_scores)\n",
    "            print('\\n')"
   ]
  },
  {
   "cell_type": "code",
   "execution_count": 11,
   "metadata": {},
   "outputs": [],
   "source": [
    "all_mse = {}\n",
    "all_rmse = {}\n",
    "for model in estimators:\n",
    "    all_mse[model[0]] = []\n",
    "    all_rmse[model[0]] = []\n",
    "for (t_, v_) in kfold.split(X, y):\n",
    "    train(estimators=estimators, X=X.iloc[t_], y=y.iloc[t_], cv=5, scoring='neg_root_mean_squared_error', verbose=0)\n",
    "    for model in estimators:\n",
    "        y_pred = scalery.inverse_transform(model[1].predict(X.iloc[v_][['GSR','CT']]).reshape(-1,1))\n",
    "        y_true = scalery.inverse_transform(y.iloc[v_].values.reshape(-1,1))\n",
    "        \n",
    "        mse = mean_squared_error(y_true, y_pred)\n",
    "        rmse = np.sqrt(mse)\n",
    "        \n",
    "        all_mse[model[0]].extend([mse])\n",
    "        all_rmse[model[0]].extend([rmse])"
   ]
  },
  {
   "cell_type": "code",
   "execution_count": 12,
   "metadata": {},
   "outputs": [
    {
     "name": "stdout",
     "output_type": "stream",
     "text": [
      "GBR :\n",
      "All folds MSE : [13418.350606960164, 17920.13475667132, 6600.033337596822, 30445.896923514487, 28228.030088044823]\n",
      "All folds RMSE : [115.83760445969247, 133.86610757272103, 81.24058922482543, 174.48752655566668, 168.0119938815227]\n",
      "Mean MSE : 19322.489142557522\n",
      "Mean RMSE : 134.68876433888565\n",
      "\n",
      "\n",
      "RF :\n",
      "All folds MSE : [13204.193140745263, 17855.41240373199, 8085.523341773924, 30013.83749998624, 18642.462449647846]\n",
      "All folds RMSE : [114.9094997845925, 133.62414603555746, 89.91953815369563, 173.24502157345313, 136.53740311595152]\n",
      "Mean MSE : 17560.285767177054\n",
      "Mean RMSE : 129.64712173265005\n",
      "\n",
      "\n",
      "Ridge :\n",
      "All folds MSE : [10388.054698705251, 14507.949011850664, 3725.9693137295217, 23592.91444548301, 16262.608116704323]\n",
      "All folds RMSE : [101.92180678689547, 120.44894774073646, 61.04071848962397, 153.5998517104851, 127.52493135345858]\n",
      "Mean MSE : 13695.499117294554\n",
      "Mean RMSE : 112.90725121623991\n",
      "\n",
      "\n",
      "SVR :\n",
      "All folds MSE : [12770.728601897907, 13444.619293551568, 4702.305154831597, 30401.89120377626, 19856.231782663443]\n",
      "All folds RMSE : [113.00764842212189, 115.950934854151, 68.57335601260593, 174.36138105605914, 140.91214206967206]\n",
      "Mean MSE : 16235.155207344153\n",
      "Mean RMSE : 122.561092482922\n",
      "\n",
      "\n"
     ]
    }
   ],
   "source": [
    "for model in estimators:\n",
    "    print(model[0],\":\")\n",
    "    print(\"All folds MSE :\", all_mse[model[0]])\n",
    "    print(\"All folds RMSE :\", all_rmse[model[0]])\n",
    "    print(\"Mean MSE :\", np.mean(all_mse[model[0]]))\n",
    "    print(\"Mean RMSE :\", np.mean(all_rmse[model[0]]))\n",
    "    print(\"\\n\")"
   ]
  },
  {
   "cell_type": "code",
   "execution_count": 13,
   "metadata": {},
   "outputs": [],
   "source": [
    "stacked_estimator = StackingRegressor(\n",
    "    estimators=estimators,\n",
    "    final_estimator=GradientBoostingRegressor(random_state=42)\n",
    ")"
   ]
  },
  {
   "cell_type": "code",
   "execution_count": 15,
   "metadata": {},
   "outputs": [
    {
     "name": "stdout",
     "output_type": "stream",
     "text": [
      "Stacked estimator mean cv score: -0.8389544212060474\n",
      "Stacked estimator all cv scores: [-0.90988616 -0.83757739 -0.4591576  -1.08814751 -0.90000344]\n"
     ]
    }
   ],
   "source": [
    "cross_scores = cross_val_score(\n",
    "    stacked_estimator,\n",
    "    X,\n",
    "    y,\n",
    "    scoring='neg_root_mean_squared_error',\n",
    "    cv=5\n",
    ")\n",
    "\n",
    "print(\"Stacked estimator mean cv score:\", np.mean(cross_scores))\n",
    "print(\"Stacked estimator all cv scores:\", cross_scores)"
   ]
  },
  {
   "cell_type": "code",
   "execution_count": 20,
   "metadata": {},
   "outputs": [
    {
     "name": "stdout",
     "output_type": "stream",
     "text": [
      "Stacked estimator MSE: 18772.06901363579\n",
      "Stacked estimator RMSE: 137.01120032185614\n",
      "\n",
      "\n",
      "Stacked estimator MSE: 15906.986414633322\n",
      "Stacked estimator RMSE: 126.12290202272276\n",
      "\n",
      "\n",
      "Stacked estimator MSE: 4780.370795337611\n",
      "Stacked estimator RMSE: 69.14022559507316\n",
      "\n",
      "\n",
      "Stacked estimator MSE: 26848.100861180395\n",
      "Stacked estimator RMSE: 163.8539009641833\n",
      "\n",
      "\n",
      "Stacked estimator MSE: 18366.49819065585\n",
      "Stacked estimator RMSE: 135.5230540928585\n",
      "\n",
      "\n",
      "Stacked estimator mean MSE: 16934.805055088596\n",
      "Stacked estimator mean RMSE: 126.33025659933878\n"
     ]
    }
   ],
   "source": [
    "all_stacked_mses = []\n",
    "all_stacked_rmses = []\n",
    "for (t_, v_) in kfold.split(X, y):\n",
    "    stacked_estimator.fit(X.iloc[t_], y.iloc[t_])\n",
    "    y_pred = scalery.inverse_transform(stacked_estimator.predict(X.iloc[v_][['GSR','CT']]).reshape(-1,1))\n",
    "    y_true = scalery.inverse_transform(y.iloc[v_].values.reshape(-1,1))\n",
    "    \n",
    "    mse = mean_squared_error(y_true, y_pred)\n",
    "    rmse = np.sqrt(mse)\n",
    "    \n",
    "    all_stacked_mses.append(mse)\n",
    "    all_stacked_rmses.append(rmse)\n",
    "    print(\"Stacked estimator MSE:\", mse)\n",
    "    print(\"Stacked estimator RMSE:\", rmse)\n",
    "    print(\"\\n\")\n",
    "\n",
    "print(\"Stacked estimator mean MSE:\", np.mean(all_stacked_mses))\n",
    "print(\"Stacked estimator mean RMSE:\", np.mean(all_stacked_rmses))"
   ]
  },
  {
   "cell_type": "code",
   "execution_count": null,
   "metadata": {},
   "outputs": [],
   "source": []
  }
 ],
 "metadata": {
  "kernelspec": {
   "display_name": "Python 3",
   "language": "python",
   "name": "python3"
  },
  "language_info": {
   "codemirror_mode": {
    "name": "ipython",
    "version": 3
   },
   "file_extension": ".py",
   "mimetype": "text/x-python",
   "name": "python",
   "nbconvert_exporter": "python",
   "pygments_lexer": "ipython3",
   "version": "3.8.5"
  },
  "toc": {
   "base_numbering": 1,
   "nav_menu": {},
   "number_sections": true,
   "sideBar": true,
   "skip_h1_title": false,
   "title_cell": "Table of Contents",
   "title_sidebar": "Contents",
   "toc_cell": false,
   "toc_position": {},
   "toc_section_display": true,
   "toc_window_display": false
  }
 },
 "nbformat": 4,
 "nbformat_minor": 4
}
