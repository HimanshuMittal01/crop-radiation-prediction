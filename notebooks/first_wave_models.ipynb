{
 "cells": [
  {
   "cell_type": "code",
   "execution_count": 1,
   "metadata": {},
   "outputs": [],
   "source": [
    "import numpy as np\n",
    "import pandas as pd\n",
    "import matplotlib.pyplot as plt\n",
    "import seaborn as sns\n",
    "\n",
    "from sklearn.preprocessing import StandardScaler, MinMaxScaler, RobustScaler\n",
    "\n",
    "from sklearn.ensemble import RandomForestRegressor, GradientBoostingRegressor\n",
    "from sklearn.linear_model import Ridge, Lasso\n",
    "from sklearn.svm import SVR\n",
    "from sklearn.gaussian_process import GaussianProcessRegressor\n",
    "from sklearn.ensemble import StackingRegressor\n",
    "\n",
    "from sklearn.model_selection import cross_val_score, train_test_split\n",
    "from sklearn.metrics import mean_squared_error"
   ]
  },
  {
   "cell_type": "code",
   "execution_count": 2,
   "metadata": {},
   "outputs": [],
   "source": [
    "cowpea = pd.read_excel('../data/prepared.xlsx', sheet_name='Cowpea')\n",
    "maize = pd.read_excel('../data/prepared.xlsx', sheet_name='Maize')\n",
    "rice = pd.read_excel('../data/prepared.xlsx', sheet_name='Rice')\n",
    "chickpea = pd.read_excel('../data/prepared.xlsx', sheet_name='Chickpea')\n",
    "mustard = pd.read_excel('../data/prepared.xlsx', sheet_name='Mustard')"
   ]
  },
  {
   "cell_type": "code",
   "execution_count": 3,
   "metadata": {},
   "outputs": [
    {
     "data": {
      "text/html": [
       "<div>\n",
       "<style scoped>\n",
       "    .dataframe tbody tr th:only-of-type {\n",
       "        vertical-align: middle;\n",
       "    }\n",
       "\n",
       "    .dataframe tbody tr th {\n",
       "        vertical-align: top;\n",
       "    }\n",
       "\n",
       "    .dataframe thead th {\n",
       "        text-align: right;\n",
       "    }\n",
       "</style>\n",
       "<table border=\"1\" class=\"dataframe\">\n",
       "  <thead>\n",
       "    <tr style=\"text-align: right;\">\n",
       "      <th></th>\n",
       "      <th>Date</th>\n",
       "      <th>Time</th>\n",
       "      <th>GSR</th>\n",
       "      <th>CT</th>\n",
       "      <th>Rn</th>\n",
       "      <th>ST_5cm</th>\n",
       "      <th>ST_10cm</th>\n",
       "      <th>ST_15cm</th>\n",
       "    </tr>\n",
       "  </thead>\n",
       "  <tbody>\n",
       "    <tr>\n",
       "      <th>0</th>\n",
       "      <td>2008-11-21</td>\n",
       "      <td>08:00:00</td>\n",
       "      <td>293.72</td>\n",
       "      <td>22.9</td>\n",
       "      <td>227.012</td>\n",
       "      <td>0.0</td>\n",
       "      <td>25.5</td>\n",
       "      <td>NaN</td>\n",
       "    </tr>\n",
       "    <tr>\n",
       "      <th>1</th>\n",
       "      <td>2008-11-21</td>\n",
       "      <td>09:00:00</td>\n",
       "      <td>325.19</td>\n",
       "      <td>26.3</td>\n",
       "      <td>279.908</td>\n",
       "      <td>22.5</td>\n",
       "      <td>23.5</td>\n",
       "      <td>NaN</td>\n",
       "    </tr>\n",
       "    <tr>\n",
       "      <th>2</th>\n",
       "      <td>2008-11-21</td>\n",
       "      <td>10:00:00</td>\n",
       "      <td>398.62</td>\n",
       "      <td>22.8</td>\n",
       "      <td>297.540</td>\n",
       "      <td>22.5</td>\n",
       "      <td>23.5</td>\n",
       "      <td>NaN</td>\n",
       "    </tr>\n",
       "    <tr>\n",
       "      <th>3</th>\n",
       "      <td>2008-11-21</td>\n",
       "      <td>11:00:00</td>\n",
       "      <td>440.58</td>\n",
       "      <td>27.7</td>\n",
       "      <td>328.396</td>\n",
       "      <td>24.0</td>\n",
       "      <td>25.0</td>\n",
       "      <td>NaN</td>\n",
       "    </tr>\n",
       "    <tr>\n",
       "      <th>4</th>\n",
       "      <td>2008-11-21</td>\n",
       "      <td>12:00:00</td>\n",
       "      <td>608.42</td>\n",
       "      <td>26.6</td>\n",
       "      <td>209.380</td>\n",
       "      <td>25.5</td>\n",
       "      <td>26.0</td>\n",
       "      <td>NaN</td>\n",
       "    </tr>\n",
       "  </tbody>\n",
       "</table>\n",
       "</div>"
      ],
      "text/plain": [
       "        Date      Time     GSR    CT       Rn  ST_5cm  ST_10cm  ST_15cm\n",
       "0 2008-11-21  08:00:00  293.72  22.9  227.012     0.0     25.5      NaN\n",
       "1 2008-11-21  09:00:00  325.19  26.3  279.908    22.5     23.5      NaN\n",
       "2 2008-11-21  10:00:00  398.62  22.8  297.540    22.5     23.5      NaN\n",
       "3 2008-11-21  11:00:00  440.58  27.7  328.396    24.0     25.0      NaN\n",
       "4 2008-11-21  12:00:00  608.42  26.6  209.380    25.5     26.0      NaN"
      ]
     },
     "execution_count": 3,
     "metadata": {},
     "output_type": "execute_result"
    }
   ],
   "source": [
    "mustard.head()"
   ]
  },
  {
   "cell_type": "code",
   "execution_count": 4,
   "metadata": {},
   "outputs": [
    {
     "data": {
      "text/html": [
       "<div>\n",
       "<style scoped>\n",
       "    .dataframe tbody tr th:only-of-type {\n",
       "        vertical-align: middle;\n",
       "    }\n",
       "\n",
       "    .dataframe tbody tr th {\n",
       "        vertical-align: top;\n",
       "    }\n",
       "\n",
       "    .dataframe thead th {\n",
       "        text-align: right;\n",
       "    }\n",
       "</style>\n",
       "<table border=\"1\" class=\"dataframe\">\n",
       "  <thead>\n",
       "    <tr style=\"text-align: right;\">\n",
       "      <th></th>\n",
       "      <th>GSR</th>\n",
       "      <th>CT</th>\n",
       "      <th>Rn</th>\n",
       "      <th>ST_5cm</th>\n",
       "      <th>ST_10cm</th>\n",
       "      <th>ST_15cm</th>\n",
       "    </tr>\n",
       "  </thead>\n",
       "  <tbody>\n",
       "    <tr>\n",
       "      <th>count</th>\n",
       "      <td>198.000000</td>\n",
       "      <td>198.000000</td>\n",
       "      <td>198.000000</td>\n",
       "      <td>198.000000</td>\n",
       "      <td>117.000000</td>\n",
       "      <td>81.000000</td>\n",
       "    </tr>\n",
       "    <tr>\n",
       "      <th>mean</th>\n",
       "      <td>450.487222</td>\n",
       "      <td>20.341237</td>\n",
       "      <td>190.816758</td>\n",
       "      <td>20.946970</td>\n",
       "      <td>21.775214</td>\n",
       "      <td>19.512346</td>\n",
       "    </tr>\n",
       "    <tr>\n",
       "      <th>std</th>\n",
       "      <td>258.278877</td>\n",
       "      <td>4.069704</td>\n",
       "      <td>136.756249</td>\n",
       "      <td>3.812851</td>\n",
       "      <td>3.110713</td>\n",
       "      <td>2.640141</td>\n",
       "    </tr>\n",
       "    <tr>\n",
       "      <th>min</th>\n",
       "      <td>31.470000</td>\n",
       "      <td>8.750000</td>\n",
       "      <td>-8.816000</td>\n",
       "      <td>0.000000</td>\n",
       "      <td>15.500000</td>\n",
       "      <td>14.500000</td>\n",
       "    </tr>\n",
       "    <tr>\n",
       "      <th>25%</th>\n",
       "      <td>254.382500</td>\n",
       "      <td>17.425000</td>\n",
       "      <td>77.691000</td>\n",
       "      <td>18.500000</td>\n",
       "      <td>20.000000</td>\n",
       "      <td>17.500000</td>\n",
       "    </tr>\n",
       "    <tr>\n",
       "      <th>50%</th>\n",
       "      <td>472.050000</td>\n",
       "      <td>20.800000</td>\n",
       "      <td>155.382000</td>\n",
       "      <td>21.000000</td>\n",
       "      <td>21.400000</td>\n",
       "      <td>19.500000</td>\n",
       "    </tr>\n",
       "    <tr>\n",
       "      <th>75%</th>\n",
       "      <td>618.910000</td>\n",
       "      <td>23.237500</td>\n",
       "      <td>303.876500</td>\n",
       "      <td>23.000000</td>\n",
       "      <td>23.500000</td>\n",
       "      <td>21.500000</td>\n",
       "    </tr>\n",
       "    <tr>\n",
       "      <th>max</th>\n",
       "      <td>1730.850000</td>\n",
       "      <td>30.250000</td>\n",
       "      <td>531.164000</td>\n",
       "      <td>29.500000</td>\n",
       "      <td>27.500000</td>\n",
       "      <td>25.700000</td>\n",
       "    </tr>\n",
       "  </tbody>\n",
       "</table>\n",
       "</div>"
      ],
      "text/plain": [
       "               GSR          CT          Rn      ST_5cm     ST_10cm    ST_15cm\n",
       "count   198.000000  198.000000  198.000000  198.000000  117.000000  81.000000\n",
       "mean    450.487222   20.341237  190.816758   20.946970   21.775214  19.512346\n",
       "std     258.278877    4.069704  136.756249    3.812851    3.110713   2.640141\n",
       "min      31.470000    8.750000   -8.816000    0.000000   15.500000  14.500000\n",
       "25%     254.382500   17.425000   77.691000   18.500000   20.000000  17.500000\n",
       "50%     472.050000   20.800000  155.382000   21.000000   21.400000  19.500000\n",
       "75%     618.910000   23.237500  303.876500   23.000000   23.500000  21.500000\n",
       "max    1730.850000   30.250000  531.164000   29.500000   27.500000  25.700000"
      ]
     },
     "execution_count": 4,
     "metadata": {},
     "output_type": "execute_result"
    }
   ],
   "source": [
    "mustard.describe()"
   ]
  },
  {
   "cell_type": "code",
   "execution_count": 7,
   "metadata": {},
   "outputs": [],
   "source": [
    "scalerx = StandardScaler()\n",
    "scalery = StandardScaler()\n",
    "mustard[['GSR','CT']] = scalerx.fit_transform(mustard[['GSR','CT']])\n",
    "mustard[['Rn']] = scalery.fit_transform(mustard[['Rn']])"
   ]
  },
  {
   "cell_type": "code",
   "execution_count": 9,
   "metadata": {},
   "outputs": [],
   "source": [
    "X_mustard = mustard[['GSR','CT']]\n",
    "y_mustard = mustard['Rn']"
   ]
  },
  {
   "cell_type": "code",
   "execution_count": 10,
   "metadata": {},
   "outputs": [],
   "source": [
    "X_mustard_train, X_mustard_test, y_mustard_train, y_mustard_test = train_test_split(X_mustard, y_mustard, test_size=0.2, random_state=42)"
   ]
  },
  {
   "cell_type": "code",
   "execution_count": 11,
   "metadata": {},
   "outputs": [],
   "source": [
    "estimators = [\n",
    "    ('GBR', GradientBoostingRegressor(random_state=42)),\n",
    "    ('RF', RandomForestRegressor(random_state=42)),\n",
    "    ('Ridge', Ridge(random_state=42)),\n",
    "    ('SVR', SVR()),\n",
    "]"
   ]
  },
  {
   "cell_type": "code",
   "execution_count": 12,
   "metadata": {},
   "outputs": [],
   "source": [
    "# Train all models\n",
    "def train(estimators, X, y, cv, scoring, verbose):\n",
    "    if verbose:\n",
    "        print(\"Scoring criteria:\", str(scoring))\n",
    "        print(\"CV:\", cv)\n",
    "        print(\"y std:\", np.std(y))\n",
    "        print('\\n')\n",
    "    for model in estimators if isinstance(estimators, list) else [estimators]:\n",
    "        model[1].fit(X_mustard, y_mustard)\n",
    "        cross_scores = cross_val_score(model[1], X, y, scoring=scoring, cv=cv)\n",
    "        print(model[0], \"mean cv score:\", np.mean(cross_scores))\n",
    "        if verbose:\n",
    "            print(model[0], \"all cv scores:\", cross_scores)\n",
    "        print('\\n')"
   ]
  },
  {
   "cell_type": "code",
   "execution_count": 13,
   "metadata": {},
   "outputs": [
    {
     "name": "stdout",
     "output_type": "stream",
     "text": [
      "Scoring criteria: neg_root_mean_squared_error\n",
      "CV: 5\n",
      "y std: 1.024665922621388\n",
      "\n",
      "\n",
      "GBR mean cv score: -0.7594736938552862\n",
      "GBR all cv scores: [-0.86226684 -0.76854876 -0.71246479 -0.65722327 -0.79686481]\n",
      "\n",
      "\n",
      "RF mean cv score: -0.7364727878630781\n",
      "RF all cv scores: [-0.84159371 -0.77273797 -0.72363229 -0.54474599 -0.79965398]\n",
      "\n",
      "\n",
      "Ridge mean cv score: -0.7548053374441211\n",
      "Ridge all cv scores: [-0.82394489 -0.77201445 -0.7125823  -0.6281433  -0.83734175]\n",
      "\n",
      "\n",
      "SVR mean cv score: -0.7064847829610803\n",
      "SVR all cv scores: [-0.88867492 -0.63337739 -0.72073456 -0.51310636 -0.77653068]\n",
      "\n",
      "\n"
     ]
    }
   ],
   "source": [
    "train(estimators=estimators, X=X_mustard_train, y=y_mustard_train, cv=5, scoring='neg_root_mean_squared_error', verbose=1)"
   ]
  },
  {
   "cell_type": "code",
   "execution_count": 14,
   "metadata": {},
   "outputs": [],
   "source": [
    "stacked_estimator = StackingRegressor(\n",
    "    estimators=estimators,\n",
    "    final_estimator=GradientBoostingRegressor(random_state=42)\n",
    ")"
   ]
  },
  {
   "cell_type": "code",
   "execution_count": 15,
   "metadata": {},
   "outputs": [
    {
     "data": {
      "text/plain": [
       "StackingRegressor(estimators=[('GBR',\n",
       "                               GradientBoostingRegressor(random_state=42)),\n",
       "                              ('RF', RandomForestRegressor(random_state=42)),\n",
       "                              ('Ridge', Ridge(random_state=42)),\n",
       "                              ('SVR', SVR())],\n",
       "                  final_estimator=GradientBoostingRegressor(random_state=42))"
      ]
     },
     "execution_count": 15,
     "metadata": {},
     "output_type": "execute_result"
    }
   ],
   "source": [
    "stacked_estimator.fit(X_mustard_train, y_mustard_train)"
   ]
  },
  {
   "cell_type": "code",
   "execution_count": 16,
   "metadata": {},
   "outputs": [
    {
     "name": "stdout",
     "output_type": "stream",
     "text": [
      "Stacked estimator mean cv score: -0.7258064413628826\n",
      "Stacked estimator all cv scores: [-0.89314263 -0.73354853 -0.70456084 -0.47643561 -0.8213446 ]\n"
     ]
    }
   ],
   "source": [
    "cross_scores = cross_val_score(\n",
    "    stacked_estimator,\n",
    "    X_mustard_train,\n",
    "    y_mustard_train,\n",
    "    scoring='neg_root_mean_squared_error',\n",
    "    cv=5\n",
    ")\n",
    "\n",
    "print(\"Stacked estimator mean cv score:\", np.mean(cross_scores))\n",
    "print(\"Stacked estimator all cv scores:\", cross_scores)"
   ]
  },
  {
   "cell_type": "code",
   "execution_count": 21,
   "metadata": {},
   "outputs": [
    {
     "name": "stdout",
     "output_type": "stream",
     "text": [
      "GBR MSE: 2130.960568295718\n",
      "GBR RMSE: 46.16232845400802\n",
      "\n",
      "\n",
      "RF MSE: 994.40377474996\n",
      "RF RMSE: 31.53416836940464\n",
      "\n",
      "\n",
      "Ridge MSE: 9840.446164720697\n",
      "Ridge RMSE: 99.19902300285369\n",
      "\n",
      "\n",
      "SVR MSE: 8303.809564632631\n",
      "SVR RMSE: 91.12524109505901\n",
      "\n",
      "\n"
     ]
    }
   ],
   "source": [
    "for model in estimators:\n",
    "    y_pred = scalery.inverse_transform(model[1].predict(X_mustard_test[['GSR','CT']]).reshape(-1,1))\n",
    "    y_true = scalery.inverse_transform(y_mustard_test.values.reshape(-1,1))\n",
    "\n",
    "    print(model[0], \"MSE:\", mean_squared_error(y_true, y_pred))\n",
    "    print(model[0], \"RMSE:\", np.sqrt(mean_squared_error(y_true, y_pred)))\n",
    "    print(\"\\n\")"
   ]
  },
  {
   "cell_type": "code",
   "execution_count": 20,
   "metadata": {},
   "outputs": [
    {
     "name": "stdout",
     "output_type": "stream",
     "text": [
      "Stacked estimator MSE 7480.706361672111\n",
      "Stacked estimator RMSE 86.49107677484487\n",
      "\n",
      "\n"
     ]
    }
   ],
   "source": [
    "y_pred = scalery.inverse_transform(stacked_estimator.predict(X_mustard_test[['GSR','CT']]).reshape(-1,1))\n",
    "y_true = scalery.inverse_transform(y_mustard_test.values.reshape(-1,1))\n",
    "\n",
    "print(\"Stacked estimator MSE:\", mean_squared_error(y_true, y_pred))\n",
    "print(\"Stacked estimator RMSE:\", np.sqrt(mean_squared_error(y_true, y_pred)))\n",
    "print(\"\\n\")"
   ]
  },
  {
   "cell_type": "code",
   "execution_count": null,
   "metadata": {},
   "outputs": [],
   "source": []
  }
 ],
 "metadata": {
  "kernelspec": {
   "display_name": "Python 3",
   "language": "python",
   "name": "python3"
  },
  "language_info": {
   "codemirror_mode": {
    "name": "ipython",
    "version": 3
   },
   "file_extension": ".py",
   "mimetype": "text/x-python",
   "name": "python",
   "nbconvert_exporter": "python",
   "pygments_lexer": "ipython3",
   "version": "3.8.5"
  },
  "toc": {
   "base_numbering": 1,
   "nav_menu": {},
   "number_sections": true,
   "sideBar": true,
   "skip_h1_title": false,
   "title_cell": "Table of Contents",
   "title_sidebar": "Contents",
   "toc_cell": false,
   "toc_position": {},
   "toc_section_display": true,
   "toc_window_display": false
  }
 },
 "nbformat": 4,
 "nbformat_minor": 4
}
